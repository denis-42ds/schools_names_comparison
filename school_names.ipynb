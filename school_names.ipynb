{
 "cells": [
  {
   "cell_type": "markdown",
   "id": "69600b15-98aa-4d00-8778-94a8f03a61a8",
   "metadata": {},
   "source": [
    "# Создание решения по стандартизации названий спортивных школ.\n",
    "\n",
    "**Описание проекта**\n",
    "\n",
    "<br>Сервис \"Мой Чемпион\" помогает спортивным школам фигурного катания, тренерам\n",
    "<br>мониторить результаты своих подопечных и планировать дальнейшее развитие спортсменов.\n",
    "\n",
    "**Цель**\n",
    "\n",
    "- Создать решение для стандартизации названий спортивных школ.\n",
    "  <br>Например, одна и та же школа может быть записана по-разному\n",
    "  <br>Необхдодимо сопоставить эти варианты эталонному названию из предоставленной таблицы\n",
    "\n",
    "**Задачи**\n",
    "\n",
    "- Изучить данные – эталонные названия СШ и варианты пользовательского ввода\n",
    "- Подготовить обучающий набор данных на основе эталонного датасета\n",
    "- Создать модель для подбора наиболее вероятных названий при ошибочном вводе\n",
    "- Создать функцию (класс, модуль) для применения в сервисе\n",
    "  - возможность выбора количества кандидатов\n",
    "  - вывод в виде списка словарей\n",
    "- Протестировать решение\n",
    "- Проанализировать результат и предложить варианты улучшения\n",
    "- Создать документацию\n",
    "  - описание признаков\n",
    "  - какая модель используется\n",
    "  - как оценивается качество\n",
    "  - инструкция по запуску (применению)\n",
    "- Создать демо приложение\n",
    "\n",
    "**План выполнения**\n",
    "\n",
    "- Загрузка данных;\n",
    "- Объединение наборов данных;\n",
    "- Исследовательский анализ данных;\n",
    "- Чистка данных;\n",
    "- Получение эмбеддингов;\n",
    "- Обучение модели;\n",
    "- Проверка работоспособности;\n",
    "- Заключение."
   ]
  },
  {
   "cell_type": "markdown",
   "id": "892f1687-2593-4db9-a25d-c5a8c509915c",
   "metadata": {},
   "source": [
    "## Установка зависимостей"
   ]
  },
  {
   "cell_type": "code",
   "execution_count": 13,
   "id": "f11afec1-f28a-46ee-a9f1-130478fa25b8",
   "metadata": {},
   "outputs": [],
   "source": [
    "# !pip install -U sentence-transformers\n",
    "# !pip install pandas\n",
    "\n",
    "!pip freeze > requirements.txt"
   ]
  },
  {
   "cell_type": "code",
   "execution_count": 1,
   "id": "585c1efd-72ce-4185-a0b2-350e11322b37",
   "metadata": {},
   "outputs": [
    {
     "name": "stderr",
     "output_type": "stream",
     "text": [
      "/home/denis/Documents/main_venv/goprotect_2/gp.env/lib/python3.10/site-packages/sentence_transformers/cross_encoder/CrossEncoder.py:11: TqdmExperimentalWarning: Using `tqdm.autonotebook.tqdm` in notebook mode. Use `tqdm.tqdm` instead to force console mode (e.g. in jupyter console)\n",
      "  from tqdm.autonotebook import tqdm, trange\n"
     ]
    }
   ],
   "source": [
    "import os\n",
    "import joblib\n",
    "import numpy as np\n",
    "import pandas as pd\n",
    "from tqdm import tqdm\n",
    "from typing import Dict\n",
    "from sentence_transformers import SentenceTransformer, util"
   ]
  },
  {
   "cell_type": "markdown",
   "id": "b11d50be-4618-47fc-b296-f084c4659201",
   "metadata": {},
   "source": [
    "Объявление глобальных переменных"
   ]
  },
  {
   "cell_type": "code",
   "execution_count": 2,
   "id": "139a59c4-aecd-414e-8e42-e607e91e4c45",
   "metadata": {},
   "outputs": [],
   "source": [
    "DATA_DIR = 'data'\n",
    "MODEL_DIR = 'services/models'\n",
    "RANDOM_STATE = 42\n",
    "TEST_SIZE = 0.1\n",
    "\n",
    "pd.options.mode.copy_on_write = True"
   ]
  },
  {
   "cell_type": "markdown",
   "id": "c04d2cb9-9984-41b6-ba50-f3ebbdf1da7a",
   "metadata": {},
   "source": [
    "Пользовательские функции"
   ]
  },
  {
   "cell_type": "code",
   "execution_count": 84,
   "id": "53414892-13fe-4b06-a701-910c45840240",
   "metadata": {},
   "outputs": [],
   "source": [
    "def school_name_search(input_example: str, embeddings: np.array, model: SentenceTransformer(), k: int = 5) -> Dict:\n",
    "    res = util.semantic_search(model.encode(input_example), name_embeddings, top_k=k)\n",
    "\n",
    "    idx = [i['corpus_id'] for i in res[0]]\n",
    "    score = [i['score'] for i in res[0]]\n",
    "    valid_idx = [i for i in idx if i in df.index]  # Filter idx based on existing df index\n",
    "    if not valid_idx:\n",
    "        return None  # Handle no matches (optional)\n",
    "    result = (df.loc[idx, ['school_id', 'standard']]\n",
    "              .assign(cosine_similarity=score)\n",
    "              .drop_duplicates(subset=['school_id'])\n",
    "              .iloc[:k].rename(columns={'standard': 'school'}))\n",
    "    return result.to_dict(orient='records')\n",
    "\n",
    "def create_result_column(df: pd.DataFrame, name_embeddings: np.array, model: SentenceTransformer(), column_name: str = 'labse_default') -> pd.DataFrame:\n",
    "    school_names = df['name'].tolist()\n",
    "\n",
    "    name_embeddings = []\n",
    "    with tqdm(school_names, desc=\"Getting results\") as progress_bar:\n",
    "      for name in progress_bar:\n",
    "        res_name = school_name_search(name, name_embeddings, model, k=1)\n",
    "        name_embeddings.append(res_name[0]['school'])\n",
    "\n",
    "    df[column_name] = name_embeddings\n",
    "\n",
    "    return df"
   ]
  },
  {
   "cell_type": "markdown",
   "id": "16b0b558-befe-4627-aa1b-958a28b6af95",
   "metadata": {},
   "source": [
    "## Знакомство с данными"
   ]
  },
  {
   "cell_type": "code",
   "execution_count": 3,
   "id": "9d2e1781-fd4e-4ed2-9b79-9d8f55a98f75",
   "metadata": {},
   "outputs": [
    {
     "data": {
      "text/html": [
       "<div>\n",
       "<style scoped>\n",
       "    .dataframe tbody tr th:only-of-type {\n",
       "        vertical-align: middle;\n",
       "    }\n",
       "\n",
       "    .dataframe tbody tr th {\n",
       "        vertical-align: top;\n",
       "    }\n",
       "\n",
       "    .dataframe thead th {\n",
       "        text-align: right;\n",
       "    }\n",
       "</style>\n",
       "<table border=\"1\" class=\"dataframe\">\n",
       "  <thead>\n",
       "    <tr style=\"text-align: right;\">\n",
       "      <th></th>\n",
       "      <th>school_id</th>\n",
       "      <th>name</th>\n",
       "      <th>region</th>\n",
       "    </tr>\n",
       "  </thead>\n",
       "  <tbody>\n",
       "    <tr>\n",
       "      <th>301</th>\n",
       "      <td>305</td>\n",
       "      <td>Прогресс</td>\n",
       "      <td>Алтайский край</td>\n",
       "    </tr>\n",
       "    <tr>\n",
       "      <th>302</th>\n",
       "      <td>609</td>\n",
       "      <td>\"СШ \"Гвоздика\"</td>\n",
       "      <td>Удмуртская республика</td>\n",
       "    </tr>\n",
       "    <tr>\n",
       "      <th>303</th>\n",
       "      <td>610</td>\n",
       "      <td>СШОР \"Надежда Губернии</td>\n",
       "      <td>Саратовская область</td>\n",
       "    </tr>\n",
       "    <tr>\n",
       "      <th>304</th>\n",
       "      <td>611</td>\n",
       "      <td>КФК «Айсберг»</td>\n",
       "      <td>Пермский край</td>\n",
       "    </tr>\n",
       "    <tr>\n",
       "      <th>305</th>\n",
       "      <td>1836</td>\n",
       "      <td>ООО \"Триумф\"</td>\n",
       "      <td>Москва</td>\n",
       "    </tr>\n",
       "  </tbody>\n",
       "</table>\n",
       "</div>"
      ],
      "text/plain": [
       "     school_id                    name                 region\n",
       "301        305                Прогресс         Алтайский край\n",
       "302        609          \"СШ \"Гвоздика\"  Удмуртская республика\n",
       "303        610  СШОР \"Надежда Губернии    Саратовская область\n",
       "304        611           КФК «Айсберг»          Пермский край\n",
       "305       1836            ООО \"Триумф\"                 Москва"
      ]
     },
     "execution_count": 3,
     "metadata": {},
     "output_type": "execute_result"
    }
   ],
   "source": [
    "schools = pd.read_csv(os.path.join(DATA_DIR, 'Школы.csv'))\n",
    "schools.tail()"
   ]
  },
  {
   "cell_type": "code",
   "execution_count": 4,
   "id": "0e855b1f-109e-4356-9327-6c4b824868d4",
   "metadata": {},
   "outputs": [
    {
     "data": {
      "text/html": [
       "<div>\n",
       "<style scoped>\n",
       "    .dataframe tbody tr th:only-of-type {\n",
       "        vertical-align: middle;\n",
       "    }\n",
       "\n",
       "    .dataframe tbody tr th {\n",
       "        vertical-align: top;\n",
       "    }\n",
       "\n",
       "    .dataframe thead th {\n",
       "        text-align: right;\n",
       "    }\n",
       "</style>\n",
       "<table border=\"1\" class=\"dataframe\">\n",
       "  <thead>\n",
       "    <tr style=\"text-align: right;\">\n",
       "      <th></th>\n",
       "      <th>school_id</th>\n",
       "      <th>name</th>\n",
       "    </tr>\n",
       "  </thead>\n",
       "  <tbody>\n",
       "    <tr>\n",
       "      <th>0</th>\n",
       "      <td>1836</td>\n",
       "      <td>ООО \"Триумф\"</td>\n",
       "    </tr>\n",
       "    <tr>\n",
       "      <th>1</th>\n",
       "      <td>1836</td>\n",
       "      <td>Москва, СК \"Триумф\"</td>\n",
       "    </tr>\n",
       "    <tr>\n",
       "      <th>2</th>\n",
       "      <td>610</td>\n",
       "      <td>СШОР \"Надежда Губернии</td>\n",
       "    </tr>\n",
       "    <tr>\n",
       "      <th>3</th>\n",
       "      <td>610</td>\n",
       "      <td>Саратовская область, ГБУСО \"СШОР \"Надежда Губе...</td>\n",
       "    </tr>\n",
       "    <tr>\n",
       "      <th>4</th>\n",
       "      <td>609</td>\n",
       "      <td>\"СШ \"Гвоздика\"</td>\n",
       "    </tr>\n",
       "  </tbody>\n",
       "</table>\n",
       "</div>"
      ],
      "text/plain": [
       "   school_id                                               name\n",
       "0       1836                                       ООО \"Триумф\"\n",
       "1       1836                                Москва, СК \"Триумф\"\n",
       "2        610                             СШОР \"Надежда Губернии\n",
       "3        610  Саратовская область, ГБУСО \"СШОР \"Надежда Губе...\n",
       "4        609                                     \"СШ \"Гвоздика\""
      ]
     },
     "execution_count": 4,
     "metadata": {},
     "output_type": "execute_result"
    }
   ],
   "source": [
    "sample = pd.read_csv(os.path.join(DATA_DIR, 'Примерное написание.csv'))\n",
    "sample.head()"
   ]
  },
  {
   "cell_type": "markdown",
   "id": "20baeced-e10e-4dc3-94fe-e9e522be3d19",
   "metadata": {},
   "source": [
    "Выводы и наблюдения:\n",
    "- оба датасета загружены;\n",
    "- наблюдается общий признак для объединения;\n",
    "- одной записи в эталонном датасете может соответствовать несколько записей во втором."
   ]
  },
  {
   "cell_type": "markdown",
   "id": "842ee2f3-b2e2-45a6-8546-a3698cf8e5d1",
   "metadata": {},
   "source": [
    "## Объединение датасетов"
   ]
  },
  {
   "cell_type": "code",
   "execution_count": 5,
   "id": "41176c1b-2306-433e-b6f5-03c78ff2e4de",
   "metadata": {},
   "outputs": [
    {
     "name": "stdout",
     "output_type": "stream",
     "text": [
      "<class 'pandas.core.frame.DataFrame'>\n",
      "RangeIndex: 895 entries, 0 to 894\n",
      "Data columns (total 4 columns):\n",
      " #   Column     Non-Null Count  Dtype \n",
      "---  ------     --------------  ----- \n",
      " 0   school_id  895 non-null    int64 \n",
      " 1   name_x     895 non-null    object\n",
      " 2   name_y     895 non-null    object\n",
      " 3   region     895 non-null    object\n",
      "dtypes: int64(1), object(3)\n",
      "memory usage: 28.1+ KB\n"
     ]
    }
   ],
   "source": [
    "df = sample.merge(schools, how='left', on='school_id')\n",
    "df.info()"
   ]
  },
  {
   "cell_type": "code",
   "execution_count": 6,
   "id": "35573d1d-4b7a-41f1-962f-0c34165dcac5",
   "metadata": {},
   "outputs": [
    {
     "data": {
      "text/html": [
       "<div>\n",
       "<style scoped>\n",
       "    .dataframe tbody tr th:only-of-type {\n",
       "        vertical-align: middle;\n",
       "    }\n",
       "\n",
       "    .dataframe tbody tr th {\n",
       "        vertical-align: top;\n",
       "    }\n",
       "\n",
       "    .dataframe thead th {\n",
       "        text-align: right;\n",
       "    }\n",
       "</style>\n",
       "<table border=\"1\" class=\"dataframe\">\n",
       "  <thead>\n",
       "    <tr style=\"text-align: right;\">\n",
       "      <th></th>\n",
       "      <th>school_id</th>\n",
       "      <th>name</th>\n",
       "      <th>standard</th>\n",
       "    </tr>\n",
       "  </thead>\n",
       "  <tbody>\n",
       "    <tr>\n",
       "      <th>885</th>\n",
       "      <td>5</td>\n",
       "      <td>Айсдрим</td>\n",
       "      <td>Ice Dream / Айс Дрим: Санкт-Петербург</td>\n",
       "    </tr>\n",
       "    <tr>\n",
       "      <th>886</th>\n",
       "      <td>4</td>\n",
       "      <td>КФК Аврора</td>\n",
       "      <td>Аврора: Санкт-Петербург</td>\n",
       "    </tr>\n",
       "    <tr>\n",
       "      <th>887</th>\n",
       "      <td>4</td>\n",
       "      <td>МО г.Петергоф, СФК «Аврора»</td>\n",
       "      <td>Аврора: Санкт-Петербург</td>\n",
       "    </tr>\n",
       "    <tr>\n",
       "      <th>888</th>\n",
       "      <td>3</td>\n",
       "      <td>Республика Татарстан, МБУ СШОР \"ФСО \"Авиатор\"</td>\n",
       "      <td>Авиатор: Республика Татарстан</td>\n",
       "    </tr>\n",
       "    <tr>\n",
       "      <th>889</th>\n",
       "      <td>3</td>\n",
       "      <td>Республика Татарстан, МБУ СШОР \"ФСО \"Авиатор\"\"...</td>\n",
       "      <td>Авиатор: Республика Татарстан</td>\n",
       "    </tr>\n",
       "    <tr>\n",
       "      <th>890</th>\n",
       "      <td>3</td>\n",
       "      <td>Республика Татарстан, СШОР ФСО Авиатор</td>\n",
       "      <td>Авиатор: Республика Татарстан</td>\n",
       "    </tr>\n",
       "    <tr>\n",
       "      <th>891</th>\n",
       "      <td>3</td>\n",
       "      <td>СШОР ФСО Авиатор, Республика Татарстан</td>\n",
       "      <td>Авиатор: Республика Татарстан</td>\n",
       "    </tr>\n",
       "    <tr>\n",
       "      <th>892</th>\n",
       "      <td>3</td>\n",
       "      <td>Республика Татарстан, МБУ ДО СШОР «ФСО \"Авиатор\"»</td>\n",
       "      <td>Авиатор: Республика Татарстан</td>\n",
       "    </tr>\n",
       "    <tr>\n",
       "      <th>893</th>\n",
       "      <td>2</td>\n",
       "      <td>ЯНАО, СШ \"Авангард\"</td>\n",
       "      <td>Авангард: Ямало-Ненецкий АО</td>\n",
       "    </tr>\n",
       "    <tr>\n",
       "      <th>894</th>\n",
       "      <td>1</td>\n",
       "      <td>Московская область, СШ \"Авангард\"</td>\n",
       "      <td>Авангард: Московская область</td>\n",
       "    </tr>\n",
       "  </tbody>\n",
       "</table>\n",
       "</div>"
      ],
      "text/plain": [
       "     school_id                                               name  \\\n",
       "885          5                                            Айсдрим   \n",
       "886          4                                         КФК Аврора   \n",
       "887          4                        МО г.Петергоф, СФК «Аврора»   \n",
       "888          3      Республика Татарстан, МБУ СШОР \"ФСО \"Авиатор\"   \n",
       "889          3  Республика Татарстан, МБУ СШОР \"ФСО \"Авиатор\"\"...   \n",
       "890          3             Республика Татарстан, СШОР ФСО Авиатор   \n",
       "891          3             СШОР ФСО Авиатор, Республика Татарстан   \n",
       "892          3  Республика Татарстан, МБУ ДО СШОР «ФСО \"Авиатор\"»   \n",
       "893          2                                ЯНАО, СШ \"Авангард\"   \n",
       "894          1                  Московская область, СШ \"Авангард\"   \n",
       "\n",
       "                                  standard  \n",
       "885  Ice Dream / Айс Дрим: Санкт-Петербург  \n",
       "886                Аврора: Санкт-Петербург  \n",
       "887                Аврора: Санкт-Петербург  \n",
       "888          Авиатор: Республика Татарстан  \n",
       "889          Авиатор: Республика Татарстан  \n",
       "890          Авиатор: Республика Татарстан  \n",
       "891          Авиатор: Республика Татарстан  \n",
       "892          Авиатор: Республика Татарстан  \n",
       "893            Авангард: Ямало-Ненецкий АО  \n",
       "894           Авангард: Московская область  "
      ]
     },
     "execution_count": 6,
     "metadata": {},
     "output_type": "execute_result"
    }
   ],
   "source": [
    "df.rename(columns={'name_x': 'name', 'name_y': 'target'}, inplace=True)\n",
    "df['standard'] = df['target'] + ': ' + df['region']\n",
    "df.drop(columns=['target', 'region'], axis=1, inplace=True)\n",
    "df.tail(10)"
   ]
  },
  {
   "cell_type": "markdown",
   "id": "c3e19303-a4e0-4f5c-928c-f5de158998a5",
   "metadata": {},
   "source": [
    "Выводы и наблюдения:\n",
    "- эталонный набор данных присоединён ко второму;\n",
    "- произведено объединение названия школы с регионом."
   ]
  },
  {
   "cell_type": "markdown",
   "id": "01b84d0b-4723-4f80-bbf4-8dbb01356da2",
   "metadata": {},
   "source": [
    "## Исследовательский анализ данных"
   ]
  },
  {
   "cell_type": "code",
   "execution_count": 7,
   "id": "2c73b6c0-0b3e-4f2b-85ef-7f928a81ed13",
   "metadata": {},
   "outputs": [
    {
     "name": "stdout",
     "output_type": "stream",
     "text": [
      "Количество полных дубликатов строк: 0\n",
      "Количество уникальных значений целевой переменной: 264\n",
      "Количество дубликатов строк по признаку 'name': 1\n",
      "Совпадения строк в признаке name:\n"
     ]
    },
    {
     "data": {
      "text/html": [
       "<div>\n",
       "<style scoped>\n",
       "    .dataframe tbody tr th:only-of-type {\n",
       "        vertical-align: middle;\n",
       "    }\n",
       "\n",
       "    .dataframe tbody tr th {\n",
       "        vertical-align: top;\n",
       "    }\n",
       "\n",
       "    .dataframe thead th {\n",
       "        text-align: right;\n",
       "    }\n",
       "</style>\n",
       "<table border=\"1\" class=\"dataframe\">\n",
       "  <thead>\n",
       "    <tr style=\"text-align: right;\">\n",
       "      <th></th>\n",
       "      <th>school_id</th>\n",
       "      <th>name</th>\n",
       "      <th>standard</th>\n",
       "    </tr>\n",
       "  </thead>\n",
       "  <tbody>\n",
       "    <tr>\n",
       "      <th>34</th>\n",
       "      <td>277</td>\n",
       "      <td>КФК \"Динамо-Санкт-Петербург\"</td>\n",
       "      <td>НП КФК \"Динамо-Санкт-Петербург\": Санкт-Петербург</td>\n",
       "    </tr>\n",
       "    <tr>\n",
       "      <th>758</th>\n",
       "      <td>48</td>\n",
       "      <td>КФК \"Динамо-Санкт-Петербург\"</td>\n",
       "      <td>Динамо Санкт-Петербург: Санкт-Петербург</td>\n",
       "    </tr>\n",
       "  </tbody>\n",
       "</table>\n",
       "</div>"
      ],
      "text/plain": [
       "     school_id                          name  \\\n",
       "34         277  КФК \"Динамо-Санкт-Петербург\"   \n",
       "758         48  КФК \"Динамо-Санкт-Петербург\"   \n",
       "\n",
       "                                             standard  \n",
       "34   НП КФК \"Динамо-Санкт-Петербург\": Санкт-Петербург  \n",
       "758           Динамо Санкт-Петербург: Санкт-Петербург  "
      ]
     },
     "metadata": {},
     "output_type": "display_data"
    },
    {
     "name": "stdout",
     "output_type": "stream",
     "text": [
      "Удалена строка с повторяющимся name, но разным standard\n",
      "<class 'pandas.core.frame.DataFrame'>\n",
      "Index: 893 entries, 0 to 894\n",
      "Data columns (total 3 columns):\n",
      " #   Column     Non-Null Count  Dtype \n",
      "---  ------     --------------  ----- \n",
      " 0   school_id  893 non-null    int64 \n",
      " 1   name       893 non-null    object\n",
      " 2   standard   893 non-null    object\n",
      "dtypes: int64(1), object(2)\n",
      "memory usage: 27.9+ KB\n"
     ]
    }
   ],
   "source": [
    "print(f\"Количество полных дубликатов строк: {df.duplicated().sum()}\")\n",
    "print(f\"Количество уникальных значений целевой переменной: {df['standard'].nunique()}\")\n",
    "print(f\"Количество дубликатов строк по признаку 'name': {df['name'].duplicated().sum()}\")\n",
    "print('Совпадения строк в признаке name:')\n",
    "display(df[df.duplicated(subset='name', keep=False)])\n",
    "df = df[df['school_id'] != 277]\n",
    "print('Удалена строка с повторяющимся name, но разным standard')\n",
    "df.info()"
   ]
  },
  {
   "cell_type": "code",
   "execution_count": 8,
   "id": "82ec3637-3db3-43c8-b4d2-9f525833d5ec",
   "metadata": {},
   "outputs": [
    {
     "name": "stdout",
     "output_type": "stream",
     "text": [
      "В среднем на одно корректное наименование приходится 3 некорректных\n"
     ]
    }
   ],
   "source": [
    "print(f\"В среднем на одно корректное наименование приходится {round(df['name'].nunique() / df['standard'].nunique(),)} некорректных\")"
   ]
  },
  {
   "cell_type": "markdown",
   "id": "09e15bf7-949e-4ad3-b786-19164679a448",
   "metadata": {},
   "source": [
    "Выводы и наблюдения:\n",
    "- полных повторов в данных нет;\n",
    "- пропусков в данных нет;\n",
    "- удалена одна строка с повторяющимся значением в признаке `name`."
   ]
  },
  {
   "cell_type": "markdown",
   "id": "aa96590a-4c33-4ffe-8bdd-a8f1f649f710",
   "metadata": {},
   "source": [
    "## Разработка моделей машинного обучения"
   ]
  },
  {
   "cell_type": "markdown",
   "id": "0754bf87-2293-48f6-8820-36c584b0c6df",
   "metadata": {},
   "source": [
    "### Baseline"
   ]
  },
  {
   "cell_type": "code",
   "execution_count": 9,
   "id": "f972d08a-7c25-481c-a15a-6318d78b0d97",
   "metadata": {},
   "outputs": [
    {
     "data": {
      "text/plain": [
       "SentenceTransformer(\n",
       "  (0): Transformer({'max_seq_length': 256, 'do_lower_case': False}) with Transformer model: BertModel \n",
       "  (1): Pooling({'word_embedding_dimension': 768, 'pooling_mode_cls_token': True, 'pooling_mode_mean_tokens': False, 'pooling_mode_max_tokens': False, 'pooling_mode_mean_sqrt_len_tokens': False, 'pooling_mode_weightedmean_tokens': False, 'pooling_mode_lasttoken': False, 'include_prompt': True})\n",
       "  (2): Dense({'in_features': 768, 'out_features': 768, 'bias': True, 'activation_function': 'torch.nn.modules.activation.Tanh'})\n",
       "  (3): Normalize()\n",
       ")"
      ]
     },
     "execution_count": 9,
     "metadata": {},
     "output_type": "execute_result"
    }
   ],
   "source": [
    "try:\n",
    "    labse = joblib.load(os.path.join(MODEL_DIR, 'labse.model'))\n",
    "except:\n",
    "    labse = SentenceTransformer('sentence-transformers/LaBSE')\n",
    "    joblib.dump(labse, os.path.join(MODEL_DIR, 'labse.model'))\n",
    "labse"
   ]
  },
  {
   "cell_type": "markdown",
   "id": "6db2f360-fb9a-4c02-bbac-a59530f1cd31",
   "metadata": {},
   "source": [
    "Получение эмбеддингов наименований школ"
   ]
  },
  {
   "cell_type": "code",
   "execution_count": 10,
   "id": "b77b002c-c0a4-4c34-a505-85a7734f5f5b",
   "metadata": {},
   "outputs": [
    {
     "name": "stderr",
     "output_type": "stream",
     "text": [
      "Generating Name Embeddings: 100%|██████████████████████████████████████| 893/893 [02:06<00:00,  7.05it/s]\n"
     ]
    },
    {
     "data": {
      "text/plain": [
       "(893, 768)"
      ]
     },
     "execution_count": 10,
     "metadata": {},
     "output_type": "execute_result"
    }
   ],
   "source": [
    "school_names = df['name'].values\n",
    "\n",
    "# Wrap the list of school names with tqdm for progress bar\n",
    "with tqdm(school_names, desc=\"Generating Name Embeddings\") as progress_bar:\n",
    "  name_embeddings = []\n",
    "  for name in progress_bar:\n",
    "    embedding = labse.encode(name)\n",
    "    name_embeddings.append(embedding)\n",
    "\n",
    "name_embeddings = np.array(name_embeddings)  # Convert list to numpy array\n",
    "name_embeddings.shape"
   ]
  },
  {
   "cell_type": "code",
   "execution_count": 23,
   "id": "bb2fe04d-8f4d-407a-9a94-338acc2e2372",
   "metadata": {},
   "outputs": [
    {
     "name": "stderr",
     "output_type": "stream",
     "text": [
      "Getting results: 100%|█████████████████████████████████████████████████| 893/893 [02:16<00:00,  6.54it/s]\n"
     ]
    }
   ],
   "source": [
    "df.reset_index(drop=True, inplace=True)\n",
    "df = create_result_column(df.copy(), name_embeddings, labse)"
   ]
  },
  {
   "cell_type": "markdown",
   "id": "e3121490-ce09-4da6-99cf-e82c80583f95",
   "metadata": {},
   "source": [
    "Расчёт точности"
   ]
  },
  {
   "cell_type": "code",
   "execution_count": 61,
   "id": "0e0fc3b6-4ada-41fe-9d0c-a01fdb62f92c",
   "metadata": {},
   "outputs": [
    {
     "name": "stdout",
     "output_type": "stream",
     "text": [
      "Baseline accuracy: 1.0\n"
     ]
    }
   ],
   "source": [
    "accuracy_labse_default = (df['labse_default'] == df['standard']).mean()\n",
    "print(\"Baseline accuracy:\", round(accuracy_labse_default, 2))"
   ]
  },
  {
   "cell_type": "markdown",
   "id": "a514a928-8b99-49a6-8741-26f29e002ad3",
   "metadata": {},
   "source": [
    "Проверка работоспособности"
   ]
  },
  {
   "cell_type": "code",
   "execution_count": 60,
   "id": "0e641e0b-eccd-4c44-8872-d1446fba35cf",
   "metadata": {},
   "outputs": [
    {
     "data": {
      "text/plain": [
       "[{'school_id': 24,\n",
       "  'school': 'Школа ФК Е. Бережной: Санкт-Петербург',\n",
       "  'cosine_similarity': 0.5782665610313416},\n",
       " {'school_id': 128,\n",
       "  'school': 'Орленок: Пермский край',\n",
       "  'cosine_similarity': 0.5124238729476929},\n",
       " {'school_id': 302,\n",
       "  'school': 'СШ №2: Республика Башкортостан',\n",
       "  'cosine_similarity': 0.5083849430084229},\n",
       " {'school_id': 610,\n",
       "  'school': 'СШОР \"Надежда Губернии: Саратовская область',\n",
       "  'cosine_similarity': 0.49365147948265076}]"
      ]
     },
     "execution_count": 60,
     "metadata": {},
     "output_type": "execute_result"
    }
   ],
   "source": [
    "school_name_search('школа Бережной', name_embeddings, labse, k=5)"
   ]
  },
  {
   "cell_type": "markdown",
   "id": "71044456-7473-4bfe-b243-c82b7cbaf14b",
   "metadata": {},
   "source": [
    "Выводы и заключения:\n",
    "- в качестве baseline принята мультиязычная модель на основе BERT LaBSE;\n",
    "- при выводе нескольких результатов только первый показывает релевантное наименование;\n",
    "- в среднем при проверке по всему набору данных показатель accuracy получился очень высоким."
   ]
  },
  {
   "cell_type": "markdown",
   "id": "8c5e1459-7a65-4f9a-a9f5-de8e87b55858",
   "metadata": {},
   "source": [
    "### MiniLM-L12"
   ]
  },
  {
   "cell_type": "code",
   "execution_count": 63,
   "id": "4f54c97c-3b16-4dd8-ba16-ec7e95fb6ca9",
   "metadata": {},
   "outputs": [
    {
     "data": {
      "application/vnd.jupyter.widget-view+json": {
       "model_id": "5c046edd84f140aba0fbef1a501d8f63",
       "version_major": 2,
       "version_minor": 0
      },
      "text/plain": [
       "modules.json:   0%|          | 0.00/349 [00:00<?, ?B/s]"
      ]
     },
     "metadata": {},
     "output_type": "display_data"
    },
    {
     "data": {
      "application/vnd.jupyter.widget-view+json": {
       "model_id": "a71c4106795449d59bbd84cb1be764f5",
       "version_major": 2,
       "version_minor": 0
      },
      "text/plain": [
       "config_sentence_transformers.json:   0%|          | 0.00/116 [00:00<?, ?B/s]"
      ]
     },
     "metadata": {},
     "output_type": "display_data"
    },
    {
     "data": {
      "application/vnd.jupyter.widget-view+json": {
       "model_id": "cca24109a8e04f50967e7546792222bd",
       "version_major": 2,
       "version_minor": 0
      },
      "text/plain": [
       "README.md:   0%|          | 0.00/10.7k [00:00<?, ?B/s]"
      ]
     },
     "metadata": {},
     "output_type": "display_data"
    },
    {
     "data": {
      "application/vnd.jupyter.widget-view+json": {
       "model_id": "54c8813c998b484bb30f204c4e4bdb6e",
       "version_major": 2,
       "version_minor": 0
      },
      "text/plain": [
       "sentence_bert_config.json:   0%|          | 0.00/53.0 [00:00<?, ?B/s]"
      ]
     },
     "metadata": {},
     "output_type": "display_data"
    },
    {
     "data": {
      "application/vnd.jupyter.widget-view+json": {
       "model_id": "59b0f601460a4364ad8b922fef92f370",
       "version_major": 2,
       "version_minor": 0
      },
      "text/plain": [
       "config.json:   0%|          | 0.00/615 [00:00<?, ?B/s]"
      ]
     },
     "metadata": {},
     "output_type": "display_data"
    },
    {
     "data": {
      "application/vnd.jupyter.widget-view+json": {
       "model_id": "072656e695e64eb68c510c247bce0990",
       "version_major": 2,
       "version_minor": 0
      },
      "text/plain": [
       "model.safetensors:   0%|          | 0.00/133M [00:00<?, ?B/s]"
      ]
     },
     "metadata": {},
     "output_type": "display_data"
    },
    {
     "data": {
      "application/vnd.jupyter.widget-view+json": {
       "model_id": "99c5903323d443e8bae248022f120ecf",
       "version_major": 2,
       "version_minor": 0
      },
      "text/plain": [
       "tokenizer_config.json:   0%|          | 0.00/352 [00:00<?, ?B/s]"
      ]
     },
     "metadata": {},
     "output_type": "display_data"
    },
    {
     "data": {
      "application/vnd.jupyter.widget-view+json": {
       "model_id": "0d36787bcb774cbeb7c719f10cb80d39",
       "version_major": 2,
       "version_minor": 0
      },
      "text/plain": [
       "vocab.txt:   0%|          | 0.00/232k [00:00<?, ?B/s]"
      ]
     },
     "metadata": {},
     "output_type": "display_data"
    },
    {
     "data": {
      "application/vnd.jupyter.widget-view+json": {
       "model_id": "0165420123114cfc8d23a10d9a49e2b6",
       "version_major": 2,
       "version_minor": 0
      },
      "text/plain": [
       "tokenizer.json:   0%|          | 0.00/466k [00:00<?, ?B/s]"
      ]
     },
     "metadata": {},
     "output_type": "display_data"
    },
    {
     "data": {
      "application/vnd.jupyter.widget-view+json": {
       "model_id": "0ef153c2ef8f411e8f4b019089ae0ecc",
       "version_major": 2,
       "version_minor": 0
      },
      "text/plain": [
       "special_tokens_map.json:   0%|          | 0.00/112 [00:00<?, ?B/s]"
      ]
     },
     "metadata": {},
     "output_type": "display_data"
    },
    {
     "data": {
      "application/vnd.jupyter.widget-view+json": {
       "model_id": "64d28bdabb934d9eba5ccfc53c2cd6a7",
       "version_major": 2,
       "version_minor": 0
      },
      "text/plain": [
       "1_Pooling/config.json:   0%|          | 0.00/190 [00:00<?, ?B/s]"
      ]
     },
     "metadata": {},
     "output_type": "display_data"
    },
    {
     "data": {
      "text/plain": [
       "SentenceTransformer(\n",
       "  (0): Transformer({'max_seq_length': 128, 'do_lower_case': False}) with Transformer model: BertModel \n",
       "  (1): Pooling({'word_embedding_dimension': 384, 'pooling_mode_cls_token': False, 'pooling_mode_mean_tokens': True, 'pooling_mode_max_tokens': False, 'pooling_mode_mean_sqrt_len_tokens': False, 'pooling_mode_weightedmean_tokens': False, 'pooling_mode_lasttoken': False, 'include_prompt': True})\n",
       "  (2): Normalize()\n",
       ")"
      ]
     },
     "execution_count": 63,
     "metadata": {},
     "output_type": "execute_result"
    }
   ],
   "source": [
    "try:\n",
    "    minilm = joblib.load(os.path.join(MODEL_DIR, 'minilm.model'))\n",
    "except:\n",
    "    minilm = SentenceTransformer('sentence-transformers/all-MiniLM-L12-v2')\n",
    "    joblib.dump(minilm, os.path.join(MODEL_DIR, 'minilm.model'))\n",
    "minilm"
   ]
  },
  {
   "cell_type": "code",
   "execution_count": 64,
   "id": "246d3087-e758-4b1e-8a20-cdfa9c57174e",
   "metadata": {},
   "outputs": [
    {
     "name": "stderr",
     "output_type": "stream",
     "text": [
      "Generating Name Embeddings: 100%|██████████████████████████████████████| 893/893 [00:55<00:00, 16.01it/s]\n"
     ]
    },
    {
     "data": {
      "text/plain": [
       "(893, 384)"
      ]
     },
     "execution_count": 64,
     "metadata": {},
     "output_type": "execute_result"
    }
   ],
   "source": [
    "school_names = df['name'].values\n",
    "\n",
    "# Wrap the list of school names with tqdm for progress bar\n",
    "with tqdm(school_names, desc=\"Generating Name Embeddings\") as progress_bar:\n",
    "  name_embeddings = []\n",
    "  for name in progress_bar:\n",
    "    embedding = minilm.encode(name)\n",
    "    name_embeddings.append(embedding)\n",
    "\n",
    "name_embeddings = np.array(name_embeddings)  # Convert list to numpy array\n",
    "name_embeddings.shape"
   ]
  },
  {
   "cell_type": "code",
   "execution_count": 85,
   "id": "593b23e6-caa4-4d7e-ab56-6707ab926ab1",
   "metadata": {},
   "outputs": [
    {
     "name": "stderr",
     "output_type": "stream",
     "text": [
      "Getting results: 100%|█████████████████████████████████████████████████| 893/893 [00:58<00:00, 15.23it/s]"
     ]
    },
    {
     "name": "stdout",
     "output_type": "stream",
     "text": [
      "MiniLM accuracy: 1.0\n"
     ]
    },
    {
     "name": "stderr",
     "output_type": "stream",
     "text": [
      "\n"
     ]
    }
   ],
   "source": [
    "df_mlm = create_result_column(df = df.copy(),\n",
    "                              name_embeddings = name_embeddings,\n",
    "                              model = minilm,\n",
    "                              column_name = 'minilm_default')\n",
    "accuracy_minilm_default = (df_mlm['minilm_default'] == df_mlm['standard']).mean()\n",
    "print(\"MiniLM accuracy:\", round(accuracy_minilm_default, 2))"
   ]
  },
  {
   "cell_type": "code",
   "execution_count": 88,
   "id": "07157e98-93c5-4f83-9e98-fa2e40f9dc8d",
   "metadata": {},
   "outputs": [
    {
     "data": {
      "text/plain": [
       "[{'school_id': 2,\n",
       "  'school': 'Авангард: Ямало-Ненецкий АО',\n",
       "  'cosine_similarity': 0.8560034036636353},\n",
       " {'school_id': 1,\n",
       "  'school': 'Авангард: Московская область',\n",
       "  'cosine_similarity': 0.7600955367088318},\n",
       " {'school_id': 5,\n",
       "  'school': 'Ice Dream / Айс Дрим: Санкт-Петербург',\n",
       "  'cosine_similarity': 0.7112890481948853},\n",
       " {'school_id': 62,\n",
       "  'school': 'Звездный лед: Санкт-Петербург',\n",
       "  'cosine_similarity': 0.6321210861206055}]"
      ]
     },
     "execution_count": 88,
     "metadata": {},
     "output_type": "execute_result"
    }
   ],
   "source": [
    "school_name_search('авангард', name_embeddings, minilm, k=5)"
   ]
  },
  {
   "cell_type": "markdown",
   "id": "1efbc045-d46c-4fbd-a752-8352d3318657",
   "metadata": {},
   "source": [
    "Выводы и заключения:\n",
    "- в качестве второй модели принята лёгкая мультиязычная модель на основе `BERT` `all-MiniLM-L12-v2`;\n",
    "- вывод нескольких результатов больше соответствует действительности;\n",
    "- показатель косинуснуй близости в среднем гораздо выше, чем у `baseline`;\n",
    "- в среднем при проверке по всему набору данных показатель `accuracy` получился очень высоким."
   ]
  },
  {
   "cell_type": "markdown",
   "id": "0f4589db-4f07-4955-acae-de25eabf169f",
   "metadata": {},
   "source": [
    "## Заключение\n",
    "\n",
    "Отчёт о проделанной работе\n",
    "1. Предоставленные Заказчиком данные загружены, изучены, почищены\n",
    "   - серьёзных проблем не обнаружено;\n",
    "   - дубликаты удалены;\n",
    "   - произведено объединение наборов данных;\n",
    "2. получены эмбеддинги и произведён расчёт косинусного сходства для двух моделей:\n",
    "   - `sentence-transformers/LaBSE`;\n",
    "   - `sentence-transformers/all-MiniLM-L12-v2`;\n",
    "3. посчитана `accuracy`, произведена выборочная ручная проверка результатов;\n",
    "   - обе модели показали отличный результат на всём датасете по метрике;\n",
    "   - выборочная проверка указала на то, что вторая модель предлагает более корректные варианты,\n",
    "     <br>когда требуется более одного вывода;\n",
    "   - вторая модель занимает на порядок меньший размер дискового пространства.\n",
    "\n",
    "<br>**Общий вывод: для решения поставленной задачи хорошо подходит модель `sentence-transformers/all-MiniLM-L12-v2`**"
   ]
  }
 ],
 "metadata": {
  "kernelspec": {
   "display_name": "Python 3 (ipykernel)",
   "language": "python",
   "name": "python3"
  },
  "language_info": {
   "codemirror_mode": {
    "name": "ipython",
    "version": 3
   },
   "file_extension": ".py",
   "mimetype": "text/x-python",
   "name": "python",
   "nbconvert_exporter": "python",
   "pygments_lexer": "ipython3",
   "version": "3.10.12"
  }
 },
 "nbformat": 4,
 "nbformat_minor": 5
}
