{
 "cells": [
  {
   "cell_type": "markdown",
   "id": "69600b15-98aa-4d00-8778-94a8f03a61a8",
   "metadata": {},
   "source": [
    "# Создание решения по стандартизации названий спортивных школ.\n",
    "\n",
    "**Описание проекта**\n",
    "\n",
    "<br>Сервис \"Мой Чемпион\" помогает спортивным школам фигурного катания, тренерам\n",
    "<br>мониторить результаты своих подопечных и планировать дальнейшее развитие спортсменов.\n",
    "\n",
    "**Цель**\n",
    "\n",
    "- Создать решение для стандартизации названий спортивных школ.\n",
    "  <br>Например, одна и та же школа может быть записана по-разному\n",
    "  <br>Необхдодимо сопоставить эти варианты эталонному названию из предоставленной таблицы\n",
    "\n",
    "**Задачи**\n",
    "\n",
    "- Изучить данные – эталонные названия СШ и варианты пользовательского ввода\n",
    "- Подготовить обучающий набор данных на основе эталонного датасета\n",
    "- Создать модель для подбора наиболее вероятных названий при ошибочном вводе\n",
    "- Создать функцию (класс, модуль) для применения в сервисе\n",
    "  - возможность выбора количества кандидатов\n",
    "  - вывод в виде списка словарей\n",
    "- Протестировать решение\n",
    "- Проанализировать результат и предложить варианты улучшения\n",
    "- Создать документацию\n",
    "  - описание признаков\n",
    "  - какая модель используется\n",
    "  - как оценивается качество\n",
    "  - инструкция по запуску (применению)\n",
    "- Создать демо приложение"
   ]
  },
  {
   "cell_type": "markdown",
   "id": "892f1687-2593-4db9-a25d-c5a8c509915c",
   "metadata": {},
   "source": [
    "## Установка зависимостей"
   ]
  },
  {
   "cell_type": "code",
   "execution_count": 1,
   "id": "f11afec1-f28a-46ee-a9f1-130478fa25b8",
   "metadata": {},
   "outputs": [],
   "source": [
    "# !pip install pandas\n",
    "# !pip install seaborn\n",
    "# !pip install phik\n",
    "# !pip install category_encoders\n",
    "# !pip install python-dotenv\n",
    "# !pip install mlflow\n",
    "# !pip install psycopg2-binary\n",
    "# !pip install autofeat\n",
    "# !pip install optuna\n",
    "# !pip install lightgbm\n",
    "# !pip freeze > requirements.txt"
   ]
  },
  {
   "cell_type": "code",
   "execution_count": 2,
   "id": "585c1efd-72ce-4185-a0b2-350e11322b37",
   "metadata": {},
   "outputs": [],
   "source": [
    "# Импорт стандартных библиотек\n",
    "import os\n",
    "\n",
    "# Импорт библиотек для визуализации данных\n",
    "# import matplotlib.pyplot as plt\n",
    "# import seaborn as sns\n",
    "# from matplotlib.gridspec import GridSpec\n",
    "\n",
    "# # Импорт библиотек для работы с данными\n",
    "# import pandas as pd\n",
    "# import numpy as np\n",
    "\n",
    "# # Импорт дополнительных библиотек\n",
    "# import joblib\n",
    "# import mlflow\n",
    "# from phik.report import plot_correlation_matrix\n",
    "\n",
    "# # Импорт пользовательских функций\n",
    "# from research_functions import (\n",
    "#     data_review,\n",
    "#     data_preprocessing,\n",
    "#     model_fitting,\n",
    "#     model_logging,\n",
    "#     models_comparison,\n",
    "#     test_best_model\n",
    "#     )"
   ]
  },
  {
   "cell_type": "code",
   "execution_count": 3,
   "id": "77d2a789-7730-4353-8391-cd309a6d4109",
   "metadata": {},
   "outputs": [],
   "source": [
    "# Автоматическая перезагрузка модулей\n",
    "%load_ext autoreload\n",
    "%autoreload 2\n",
    "\n",
    "# Импорт модуля research_functions\n",
    "# import research_functions"
   ]
  },
  {
   "cell_type": "markdown",
   "id": "b11d50be-4618-47fc-b296-f084c4659201",
   "metadata": {},
   "source": [
    "Объявление глобальных переменных"
   ]
  },
  {
   "cell_type": "code",
   "execution_count": 4,
   "id": "139a59c4-aecd-414e-8e42-e607e91e4c45",
   "metadata": {},
   "outputs": [],
   "source": [
    "DATA_DIR = 'data'\n",
    "ASSETS_DIR = 'assets'\n",
    "RANDOM_STATE = 42\n",
    "# TEST_SIZE = 0.1\n",
    "\n",
    "# pd.options.display.max_columns = 100\n",
    "# pd.options.display.max_rows = 64\n",
    "# pd.options.mode.copy_on_write = True\n",
    "\n",
    "# sns.set_theme(style='white', palette='husl')\n",
    "\n",
    "# %matplotlib inline\n",
    "# %config InlineBackend.figure_format = 'png'\n",
    "# %config InlineBackend.figure_format = 'retina'"
   ]
  },
  {
   "cell_type": "markdown",
   "id": "16b0b558-befe-4627-aa1b-958a28b6af95",
   "metadata": {},
   "source": [
    "## Знакомство с данными"
   ]
  },
  {
   "cell_type": "code",
   "execution_count": null,
   "id": "9d2e1781-fd4e-4ed2-9b79-9d8f55a98f75",
   "metadata": {},
   "outputs": [],
   "source": []
  },
  {
   "cell_type": "code",
   "execution_count": null,
   "id": "0e855b1f-109e-4356-9327-6c4b824868d4",
   "metadata": {},
   "outputs": [],
   "source": []
  },
  {
   "cell_type": "code",
   "execution_count": null,
   "id": "f6db6f6b-a9ab-4e78-9332-0dc87b02e84d",
   "metadata": {},
   "outputs": [],
   "source": []
  }
 ],
 "metadata": {
  "kernelspec": {
   "display_name": "Python 3 (ipykernel)",
   "language": "python",
   "name": "python3"
  },
  "language_info": {
   "codemirror_mode": {
    "name": "ipython",
    "version": 3
   },
   "file_extension": ".py",
   "mimetype": "text/x-python",
   "name": "python",
   "nbconvert_exporter": "python",
   "pygments_lexer": "ipython3",
   "version": "3.10.12"
  }
 },
 "nbformat": 4,
 "nbformat_minor": 5
}
