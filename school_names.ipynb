{
 "cells": [
  {
   "cell_type": "markdown",
   "id": "69600b15-98aa-4d00-8778-94a8f03a61a8",
   "metadata": {},
   "source": [
    "# Создание решения по стандартизации названий спортивных школ.\n",
    "\n",
    "**Описание проекта**\n",
    "\n",
    "<br>Сервис \"Мой Чемпион\" помогает спортивным школам фигурного катания, тренерам\n",
    "<br>мониторить результаты своих подопечных и планировать дальнейшее развитие спортсменов.\n",
    "\n",
    "**Цель**\n",
    "\n",
    "- Создать решение для стандартизации названий спортивных школ.\n",
    "  <br>Например, одна и та же школа может быть записана по-разному\n",
    "  <br>Необхдодимо сопоставить эти варианты эталонному названию из предоставленной таблицы\n",
    "\n",
    "**Задачи**\n",
    "\n",
    "- Изучить данные – эталонные названия СШ и варианты пользовательского ввода\n",
    "- Подготовить обучающий набор данных на основе эталонного датасета\n",
    "- Создать модель для подбора наиболее вероятных названий при ошибочном вводе\n",
    "- Создать функцию (класс, модуль) для применения в сервисе\n",
    "  - возможность выбора количества кандидатов\n",
    "  - вывод в виде списка словарей\n",
    "- Протестировать решение\n",
    "- Проанализировать результат и предложить варианты улучшения\n",
    "- Создать документацию\n",
    "  - описание признаков\n",
    "  - какая модель используется\n",
    "  - как оценивается качество\n",
    "  - инструкция по запуску (применению)\n",
    "- Создать демо приложение\n",
    "\n",
    "**План выполнения**\n",
    "\n",
    "- Загрузка данных;\n",
    "- Объединение наборов данных;\n",
    "- Исследовательский анализ данных;\n",
    "- Чистка данных;\n",
    "- Получение эмбеддингов;\n",
    "- Обучение модели;\n",
    "- Проверка работоспособности;\n",
    "- Заключение."
   ]
  },
  {
   "cell_type": "markdown",
   "id": "892f1687-2593-4db9-a25d-c5a8c509915c",
   "metadata": {},
   "source": [
    "## Установка зависимостей"
   ]
  },
  {
   "cell_type": "code",
   "execution_count": 13,
   "id": "f11afec1-f28a-46ee-a9f1-130478fa25b8",
   "metadata": {},
   "outputs": [],
   "source": [
    "# !pip install -U sentence-transformers\n",
    "# !pip install pandas\n",
    "\n",
    "!pip freeze > requirements.txt"
   ]
  },
  {
   "cell_type": "code",
   "execution_count": 18,
   "id": "585c1efd-72ce-4185-a0b2-350e11322b37",
   "metadata": {},
   "outputs": [],
   "source": [
    "import os\n",
    "import joblib\n",
    "import numpy as np\n",
    "import pandas as pd\n",
    "from tqdm import tqdm\n",
    "from typing import Dict\n",
    "from sentence_transformers import SentenceTransformer, util"
   ]
  },
  {
   "cell_type": "markdown",
   "id": "b11d50be-4618-47fc-b296-f084c4659201",
   "metadata": {},
   "source": [
    "Объявление глобальных переменных"
   ]
  },
  {
   "cell_type": "code",
   "execution_count": 2,
   "id": "139a59c4-aecd-414e-8e42-e607e91e4c45",
   "metadata": {},
   "outputs": [],
   "source": [
    "DATA_DIR = 'data'\n",
    "MODEL_DIR = 'services/models'\n",
    "RANDOM_STATE = 42\n",
    "TEST_SIZE = 0.1\n",
    "\n",
    "pd.options.mode.copy_on_write = True"
   ]
  },
  {
   "cell_type": "markdown",
   "id": "16b0b558-befe-4627-aa1b-958a28b6af95",
   "metadata": {},
   "source": [
    "## Знакомство с данными"
   ]
  },
  {
   "cell_type": "code",
   "execution_count": 3,
   "id": "9d2e1781-fd4e-4ed2-9b79-9d8f55a98f75",
   "metadata": {},
   "outputs": [
    {
     "data": {
      "text/html": [
       "<div>\n",
       "<style scoped>\n",
       "    .dataframe tbody tr th:only-of-type {\n",
       "        vertical-align: middle;\n",
       "    }\n",
       "\n",
       "    .dataframe tbody tr th {\n",
       "        vertical-align: top;\n",
       "    }\n",
       "\n",
       "    .dataframe thead th {\n",
       "        text-align: right;\n",
       "    }\n",
       "</style>\n",
       "<table border=\"1\" class=\"dataframe\">\n",
       "  <thead>\n",
       "    <tr style=\"text-align: right;\">\n",
       "      <th></th>\n",
       "      <th>school_id</th>\n",
       "      <th>name</th>\n",
       "      <th>region</th>\n",
       "    </tr>\n",
       "  </thead>\n",
       "  <tbody>\n",
       "    <tr>\n",
       "      <th>301</th>\n",
       "      <td>305</td>\n",
       "      <td>Прогресс</td>\n",
       "      <td>Алтайский край</td>\n",
       "    </tr>\n",
       "    <tr>\n",
       "      <th>302</th>\n",
       "      <td>609</td>\n",
       "      <td>\"СШ \"Гвоздика\"</td>\n",
       "      <td>Удмуртская республика</td>\n",
       "    </tr>\n",
       "    <tr>\n",
       "      <th>303</th>\n",
       "      <td>610</td>\n",
       "      <td>СШОР \"Надежда Губернии</td>\n",
       "      <td>Саратовская область</td>\n",
       "    </tr>\n",
       "    <tr>\n",
       "      <th>304</th>\n",
       "      <td>611</td>\n",
       "      <td>КФК «Айсберг»</td>\n",
       "      <td>Пермский край</td>\n",
       "    </tr>\n",
       "    <tr>\n",
       "      <th>305</th>\n",
       "      <td>1836</td>\n",
       "      <td>ООО \"Триумф\"</td>\n",
       "      <td>Москва</td>\n",
       "    </tr>\n",
       "  </tbody>\n",
       "</table>\n",
       "</div>"
      ],
      "text/plain": [
       "     school_id                    name                 region\n",
       "301        305                Прогресс         Алтайский край\n",
       "302        609          \"СШ \"Гвоздика\"  Удмуртская республика\n",
       "303        610  СШОР \"Надежда Губернии    Саратовская область\n",
       "304        611           КФК «Айсберг»          Пермский край\n",
       "305       1836            ООО \"Триумф\"                 Москва"
      ]
     },
     "execution_count": 3,
     "metadata": {},
     "output_type": "execute_result"
    }
   ],
   "source": [
    "schools = pd.read_csv(os.path.join(DATA_DIR, 'Школы.csv'))\n",
    "schools.tail()"
   ]
  },
  {
   "cell_type": "code",
   "execution_count": 4,
   "id": "0e855b1f-109e-4356-9327-6c4b824868d4",
   "metadata": {},
   "outputs": [
    {
     "data": {
      "text/html": [
       "<div>\n",
       "<style scoped>\n",
       "    .dataframe tbody tr th:only-of-type {\n",
       "        vertical-align: middle;\n",
       "    }\n",
       "\n",
       "    .dataframe tbody tr th {\n",
       "        vertical-align: top;\n",
       "    }\n",
       "\n",
       "    .dataframe thead th {\n",
       "        text-align: right;\n",
       "    }\n",
       "</style>\n",
       "<table border=\"1\" class=\"dataframe\">\n",
       "  <thead>\n",
       "    <tr style=\"text-align: right;\">\n",
       "      <th></th>\n",
       "      <th>school_id</th>\n",
       "      <th>name</th>\n",
       "    </tr>\n",
       "  </thead>\n",
       "  <tbody>\n",
       "    <tr>\n",
       "      <th>0</th>\n",
       "      <td>1836</td>\n",
       "      <td>ООО \"Триумф\"</td>\n",
       "    </tr>\n",
       "    <tr>\n",
       "      <th>1</th>\n",
       "      <td>1836</td>\n",
       "      <td>Москва, СК \"Триумф\"</td>\n",
       "    </tr>\n",
       "    <tr>\n",
       "      <th>2</th>\n",
       "      <td>610</td>\n",
       "      <td>СШОР \"Надежда Губернии</td>\n",
       "    </tr>\n",
       "    <tr>\n",
       "      <th>3</th>\n",
       "      <td>610</td>\n",
       "      <td>Саратовская область, ГБУСО \"СШОР \"Надежда Губе...</td>\n",
       "    </tr>\n",
       "    <tr>\n",
       "      <th>4</th>\n",
       "      <td>609</td>\n",
       "      <td>\"СШ \"Гвоздика\"</td>\n",
       "    </tr>\n",
       "  </tbody>\n",
       "</table>\n",
       "</div>"
      ],
      "text/plain": [
       "   school_id                                               name\n",
       "0       1836                                       ООО \"Триумф\"\n",
       "1       1836                                Москва, СК \"Триумф\"\n",
       "2        610                             СШОР \"Надежда Губернии\n",
       "3        610  Саратовская область, ГБУСО \"СШОР \"Надежда Губе...\n",
       "4        609                                     \"СШ \"Гвоздика\""
      ]
     },
     "execution_count": 4,
     "metadata": {},
     "output_type": "execute_result"
    }
   ],
   "source": [
    "sample = pd.read_csv(os.path.join(DATA_DIR, 'Примерное написание.csv'))\n",
    "sample.head()"
   ]
  },
  {
   "cell_type": "markdown",
   "id": "20baeced-e10e-4dc3-94fe-e9e522be3d19",
   "metadata": {},
   "source": [
    "Выводы и наблюдения:\n",
    "- оба датасета загружены;\n",
    "- наблюдается общий признак для объединения;\n",
    "- одной записи в эталонном датасете может соответствовать несколько записей во втором."
   ]
  },
  {
   "cell_type": "markdown",
   "id": "842ee2f3-b2e2-45a6-8546-a3698cf8e5d1",
   "metadata": {},
   "source": [
    "## Объединение датасетов"
   ]
  },
  {
   "cell_type": "code",
   "execution_count": 5,
   "id": "41176c1b-2306-433e-b6f5-03c78ff2e4de",
   "metadata": {},
   "outputs": [
    {
     "name": "stdout",
     "output_type": "stream",
     "text": [
      "<class 'pandas.core.frame.DataFrame'>\n",
      "RangeIndex: 895 entries, 0 to 894\n",
      "Data columns (total 4 columns):\n",
      " #   Column     Non-Null Count  Dtype \n",
      "---  ------     --------------  ----- \n",
      " 0   school_id  895 non-null    int64 \n",
      " 1   name_x     895 non-null    object\n",
      " 2   name_y     895 non-null    object\n",
      " 3   region     895 non-null    object\n",
      "dtypes: int64(1), object(3)\n",
      "memory usage: 28.1+ KB\n"
     ]
    }
   ],
   "source": [
    "df = sample.merge(schools, how='left', on='school_id')\n",
    "df.info()"
   ]
  },
  {
   "cell_type": "code",
   "execution_count": 6,
   "id": "35573d1d-4b7a-41f1-962f-0c34165dcac5",
   "metadata": {},
   "outputs": [
    {
     "data": {
      "text/html": [
       "<div>\n",
       "<style scoped>\n",
       "    .dataframe tbody tr th:only-of-type {\n",
       "        vertical-align: middle;\n",
       "    }\n",
       "\n",
       "    .dataframe tbody tr th {\n",
       "        vertical-align: top;\n",
       "    }\n",
       "\n",
       "    .dataframe thead th {\n",
       "        text-align: right;\n",
       "    }\n",
       "</style>\n",
       "<table border=\"1\" class=\"dataframe\">\n",
       "  <thead>\n",
       "    <tr style=\"text-align: right;\">\n",
       "      <th></th>\n",
       "      <th>school_id</th>\n",
       "      <th>name</th>\n",
       "      <th>standard</th>\n",
       "    </tr>\n",
       "  </thead>\n",
       "  <tbody>\n",
       "    <tr>\n",
       "      <th>885</th>\n",
       "      <td>5</td>\n",
       "      <td>Айсдрим</td>\n",
       "      <td>Ice Dream / Айс Дрим: Санкт-Петербург</td>\n",
       "    </tr>\n",
       "    <tr>\n",
       "      <th>886</th>\n",
       "      <td>4</td>\n",
       "      <td>КФК Аврора</td>\n",
       "      <td>Аврора: Санкт-Петербург</td>\n",
       "    </tr>\n",
       "    <tr>\n",
       "      <th>887</th>\n",
       "      <td>4</td>\n",
       "      <td>МО г.Петергоф, СФК «Аврора»</td>\n",
       "      <td>Аврора: Санкт-Петербург</td>\n",
       "    </tr>\n",
       "    <tr>\n",
       "      <th>888</th>\n",
       "      <td>3</td>\n",
       "      <td>Республика Татарстан, МБУ СШОР \"ФСО \"Авиатор\"</td>\n",
       "      <td>Авиатор: Республика Татарстан</td>\n",
       "    </tr>\n",
       "    <tr>\n",
       "      <th>889</th>\n",
       "      <td>3</td>\n",
       "      <td>Республика Татарстан, МБУ СШОР \"ФСО \"Авиатор\"\"...</td>\n",
       "      <td>Авиатор: Республика Татарстан</td>\n",
       "    </tr>\n",
       "    <tr>\n",
       "      <th>890</th>\n",
       "      <td>3</td>\n",
       "      <td>Республика Татарстан, СШОР ФСО Авиатор</td>\n",
       "      <td>Авиатор: Республика Татарстан</td>\n",
       "    </tr>\n",
       "    <tr>\n",
       "      <th>891</th>\n",
       "      <td>3</td>\n",
       "      <td>СШОР ФСО Авиатор, Республика Татарстан</td>\n",
       "      <td>Авиатор: Республика Татарстан</td>\n",
       "    </tr>\n",
       "    <tr>\n",
       "      <th>892</th>\n",
       "      <td>3</td>\n",
       "      <td>Республика Татарстан, МБУ ДО СШОР «ФСО \"Авиатор\"»</td>\n",
       "      <td>Авиатор: Республика Татарстан</td>\n",
       "    </tr>\n",
       "    <tr>\n",
       "      <th>893</th>\n",
       "      <td>2</td>\n",
       "      <td>ЯНАО, СШ \"Авангард\"</td>\n",
       "      <td>Авангард: Ямало-Ненецкий АО</td>\n",
       "    </tr>\n",
       "    <tr>\n",
       "      <th>894</th>\n",
       "      <td>1</td>\n",
       "      <td>Московская область, СШ \"Авангард\"</td>\n",
       "      <td>Авангард: Московская область</td>\n",
       "    </tr>\n",
       "  </tbody>\n",
       "</table>\n",
       "</div>"
      ],
      "text/plain": [
       "     school_id                                               name  \\\n",
       "885          5                                            Айсдрим   \n",
       "886          4                                         КФК Аврора   \n",
       "887          4                        МО г.Петергоф, СФК «Аврора»   \n",
       "888          3      Республика Татарстан, МБУ СШОР \"ФСО \"Авиатор\"   \n",
       "889          3  Республика Татарстан, МБУ СШОР \"ФСО \"Авиатор\"\"...   \n",
       "890          3             Республика Татарстан, СШОР ФСО Авиатор   \n",
       "891          3             СШОР ФСО Авиатор, Республика Татарстан   \n",
       "892          3  Республика Татарстан, МБУ ДО СШОР «ФСО \"Авиатор\"»   \n",
       "893          2                                ЯНАО, СШ \"Авангард\"   \n",
       "894          1                  Московская область, СШ \"Авангард\"   \n",
       "\n",
       "                                  standard  \n",
       "885  Ice Dream / Айс Дрим: Санкт-Петербург  \n",
       "886                Аврора: Санкт-Петербург  \n",
       "887                Аврора: Санкт-Петербург  \n",
       "888          Авиатор: Республика Татарстан  \n",
       "889          Авиатор: Республика Татарстан  \n",
       "890          Авиатор: Республика Татарстан  \n",
       "891          Авиатор: Республика Татарстан  \n",
       "892          Авиатор: Республика Татарстан  \n",
       "893            Авангард: Ямало-Ненецкий АО  \n",
       "894           Авангард: Московская область  "
      ]
     },
     "execution_count": 6,
     "metadata": {},
     "output_type": "execute_result"
    }
   ],
   "source": [
    "df.rename(columns={'name_x': 'name', 'name_y': 'target'}, inplace=True)\n",
    "df['standard'] = df['target'] + ': ' + df['region']\n",
    "df.drop(columns=['target', 'region'], axis=1, inplace=True)\n",
    "df.tail(10)"
   ]
  },
  {
   "cell_type": "markdown",
   "id": "c3e19303-a4e0-4f5c-928c-f5de158998a5",
   "metadata": {},
   "source": [
    "Выводы и наблюдения:\n",
    "- эталонный набор данных присоединён ко второму;\n",
    "- произведено объединение названия школы с регионом."
   ]
  },
  {
   "cell_type": "markdown",
   "id": "01b84d0b-4723-4f80-bbf4-8dbb01356da2",
   "metadata": {},
   "source": [
    "## Исследовательский анализ данных"
   ]
  },
  {
   "cell_type": "code",
   "execution_count": 7,
   "id": "2c73b6c0-0b3e-4f2b-85ef-7f928a81ed13",
   "metadata": {},
   "outputs": [
    {
     "name": "stdout",
     "output_type": "stream",
     "text": [
      "Количество полных дубликатов строк: 0\n",
      "Количество уникальных значений целевой переменной: 264\n",
      "Количество дубликатов строк по признаку 'name': 1\n",
      "Совпадения строк в признаке name:\n"
     ]
    },
    {
     "data": {
      "text/html": [
       "<div>\n",
       "<style scoped>\n",
       "    .dataframe tbody tr th:only-of-type {\n",
       "        vertical-align: middle;\n",
       "    }\n",
       "\n",
       "    .dataframe tbody tr th {\n",
       "        vertical-align: top;\n",
       "    }\n",
       "\n",
       "    .dataframe thead th {\n",
       "        text-align: right;\n",
       "    }\n",
       "</style>\n",
       "<table border=\"1\" class=\"dataframe\">\n",
       "  <thead>\n",
       "    <tr style=\"text-align: right;\">\n",
       "      <th></th>\n",
       "      <th>school_id</th>\n",
       "      <th>name</th>\n",
       "      <th>standard</th>\n",
       "    </tr>\n",
       "  </thead>\n",
       "  <tbody>\n",
       "    <tr>\n",
       "      <th>34</th>\n",
       "      <td>277</td>\n",
       "      <td>КФК \"Динамо-Санкт-Петербург\"</td>\n",
       "      <td>НП КФК \"Динамо-Санкт-Петербург\": Санкт-Петербург</td>\n",
       "    </tr>\n",
       "    <tr>\n",
       "      <th>758</th>\n",
       "      <td>48</td>\n",
       "      <td>КФК \"Динамо-Санкт-Петербург\"</td>\n",
       "      <td>Динамо Санкт-Петербург: Санкт-Петербург</td>\n",
       "    </tr>\n",
       "  </tbody>\n",
       "</table>\n",
       "</div>"
      ],
      "text/plain": [
       "     school_id                          name  \\\n",
       "34         277  КФК \"Динамо-Санкт-Петербург\"   \n",
       "758         48  КФК \"Динамо-Санкт-Петербург\"   \n",
       "\n",
       "                                             standard  \n",
       "34   НП КФК \"Динамо-Санкт-Петербург\": Санкт-Петербург  \n",
       "758           Динамо Санкт-Петербург: Санкт-Петербург  "
      ]
     },
     "metadata": {},
     "output_type": "display_data"
    },
    {
     "name": "stdout",
     "output_type": "stream",
     "text": [
      "Удалена строка с повторяющимся name, но разным standard\n",
      "<class 'pandas.core.frame.DataFrame'>\n",
      "Index: 893 entries, 0 to 894\n",
      "Data columns (total 3 columns):\n",
      " #   Column     Non-Null Count  Dtype \n",
      "---  ------     --------------  ----- \n",
      " 0   school_id  893 non-null    int64 \n",
      " 1   name       893 non-null    object\n",
      " 2   standard   893 non-null    object\n",
      "dtypes: int64(1), object(2)\n",
      "memory usage: 27.9+ KB\n"
     ]
    }
   ],
   "source": [
    "print(f\"Количество полных дубликатов строк: {df.duplicated().sum()}\")\n",
    "print(f\"Количество уникальных значений целевой переменной: {df['standard'].nunique()}\")\n",
    "print(f\"Количество дубликатов строк по признаку 'name': {df['name'].duplicated().sum()}\")\n",
    "print('Совпадения строк в признаке name:')\n",
    "display(df[df.duplicated(subset='name', keep=False)])\n",
    "df = df[df['school_id'] != 277]\n",
    "print('Удалена строка с повторяющимся name, но разным standard')\n",
    "df.info()"
   ]
  },
  {
   "cell_type": "code",
   "execution_count": 8,
   "id": "82ec3637-3db3-43c8-b4d2-9f525833d5ec",
   "metadata": {},
   "outputs": [
    {
     "name": "stdout",
     "output_type": "stream",
     "text": [
      "В среднем на одно корректное наименование приходится 3 некорректных\n"
     ]
    }
   ],
   "source": [
    "print(f\"В среднем на одно корректное наименование приходится {round(df['name'].nunique() / df['standard'].nunique(),)} некорректных\")"
   ]
  },
  {
   "cell_type": "markdown",
   "id": "09e15bf7-949e-4ad3-b786-19164679a448",
   "metadata": {},
   "source": [
    "Выводы и наблюдения:\n",
    "- полных повторов в данных нет;\n",
    "- пропусков в данных нет;\n",
    "- удалена одна строка с повторяющимся значением в признаке `name`."
   ]
  },
  {
   "cell_type": "markdown",
   "id": "aa96590a-4c33-4ffe-8bdd-a8f1f649f710",
   "metadata": {},
   "source": [
    "## Получение эмбеддингов"
   ]
  },
  {
   "cell_type": "markdown",
   "id": "0754bf87-2293-48f6-8820-36c584b0c6df",
   "metadata": {},
   "source": [
    "Загрузка модели"
   ]
  },
  {
   "cell_type": "code",
   "execution_count": 9,
   "id": "f972d08a-7c25-481c-a15a-6318d78b0d97",
   "metadata": {},
   "outputs": [
    {
     "data": {
      "text/plain": [
       "SentenceTransformer(\n",
       "  (0): Transformer({'max_seq_length': 256, 'do_lower_case': False}) with Transformer model: BertModel \n",
       "  (1): Pooling({'word_embedding_dimension': 768, 'pooling_mode_cls_token': True, 'pooling_mode_mean_tokens': False, 'pooling_mode_max_tokens': False, 'pooling_mode_mean_sqrt_len_tokens': False, 'pooling_mode_weightedmean_tokens': False, 'pooling_mode_lasttoken': False, 'include_prompt': True})\n",
       "  (2): Dense({'in_features': 768, 'out_features': 768, 'bias': True, 'activation_function': 'torch.nn.modules.activation.Tanh'})\n",
       "  (3): Normalize()\n",
       ")"
      ]
     },
     "execution_count": 9,
     "metadata": {},
     "output_type": "execute_result"
    }
   ],
   "source": [
    "try:\n",
    "    labse = joblib.load(os.path.join(MODEL_DIR, 'labse.model'))\n",
    "except:\n",
    "    labse = SentenceTransformer('sentence-transformers/LaBSE')\n",
    "    joblib.dump(labse, os.path.join(MODEL_DIR, 'labse.model'))\n",
    "labse"
   ]
  },
  {
   "cell_type": "markdown",
   "id": "6db2f360-fb9a-4c02-bbac-a59530f1cd31",
   "metadata": {},
   "source": [
    "Получение эмбеддингов наименований школ"
   ]
  },
  {
   "cell_type": "code",
   "execution_count": 10,
   "id": "b77b002c-c0a4-4c34-a505-85a7734f5f5b",
   "metadata": {},
   "outputs": [
    {
     "name": "stderr",
     "output_type": "stream",
     "text": [
      "100%|██████████████████████████████████████████████████████████████████| 893/893 [01:08<00:00, 12.97it/s]\n"
     ]
    },
    {
     "data": {
      "text/plain": [
       "(893, 768)"
      ]
     },
     "execution_count": 10,
     "metadata": {},
     "output_type": "execute_result"
    }
   ],
   "source": [
    "school_names = df['name'].values\n",
    "\n",
    "# Wrap the list of school names with tqdm for progress bar\n",
    "with tqdm(school_names, desc=\"Generating Name Embeddings\") as progress_bar:\n",
    "  name_embeddings = []\n",
    "  for name in progress_bar:\n",
    "    embedding = labse.encode(name)\n",
    "    name_embeddings.append(embedding)\n",
    "\n",
    "name_embeddings = np.array(name_embeddings)  # Convert list to numpy array\n",
    "name_embeddings.shape"
   ]
  },
  {
   "cell_type": "code",
   "execution_count": 109,
   "id": "53414892-13fe-4b06-a701-910c45840240",
   "metadata": {},
   "outputs": [],
   "source": [
    "def school_name_search(input_example: str, embeddings: np.array, model: SentenceTransformer()) -> Dict:\n",
    "    res = util.semantic_search(labse.encode(input_example), name_embeddings, top_k=1)\n",
    "\n",
    "    idx = [i['corpus_id'] for i in res[0]]\n",
    "    score = [i['score'] for i in res[0]]\n",
    "    valid_idx = [i for i in idx if i in df.index]  # Filter idx based on existing df index\n",
    "    if not valid_idx:\n",
    "        return None  # Handle no matches (optional)\n",
    "    result = (df.loc[idx, ['school_id', 'standard']]\n",
    "              .assign(cosine_similarity=score)\n",
    "              .drop_duplicates(subset=['school_id'])\n",
    "              .iloc[:1].rename(columns={'standard': 'school'}))\n",
    "    return result.to_dict(orient='records')[0]['school']"
   ]
  },
  {
   "cell_type": "code",
   "execution_count": 126,
   "id": "b80e16e4-0cf1-4baa-ad4a-9ba6a440e6b5",
   "metadata": {},
   "outputs": [],
   "source": [
    "def create_result_column(df: pd.DataFrame, name_embeddings: np.array, model: SentenceTransformer()) -> pd.DataFrame:\n",
    "    school_names = df['name'].tolist()\n",
    "\n",
    "    name_embeddings = []\n",
    "    with tqdm(school_names, desc=\"Getting results\") as progress_bar:\n",
    "      for name in progress_bar:\n",
    "        res_name = school_name_search(name, name_embeddings, model)\n",
    "        name_embeddings.append(res_name)\n",
    "\n",
    "    df['labse_default'] = name_embeddings\n",
    "\n",
    "    return df"
   ]
  },
  {
   "cell_type": "code",
   "execution_count": 127,
   "id": "bb2fe04d-8f4d-407a-9a94-338acc2e2372",
   "metadata": {},
   "outputs": [
    {
     "name": "stderr",
     "output_type": "stream",
     "text": [
      "Getting results: 100%|█████████████████████████████████████████████████| 893/893 [01:09<00:00, 12.89it/s]\n"
     ]
    }
   ],
   "source": [
    "df = create_result_column(df.copy(), name_embeddings, labse)"
   ]
  },
  {
   "cell_type": "code",
   "execution_count": 141,
   "id": "0e0fc3b6-4ada-41fe-9d0c-a01fdb62f92c",
   "metadata": {},
   "outputs": [
    {
     "name": "stdout",
     "output_type": "stream",
     "text": [
      "Accuracy: 0.54\n"
     ]
    }
   ],
   "source": [
    "accuracy_labse_default = (df['labse_default'] == test['standard']).mean()\n",
    "print(\"Accuracy:\", round(accuracy_labse_default, 2))"
   ]
  },
  {
   "cell_type": "code",
   "execution_count": null,
   "id": "0e641e0b-eccd-4c44-8872-d1446fba35cf",
   "metadata": {},
   "outputs": [],
   "source": []
  },
  {
   "cell_type": "code",
   "execution_count": null,
   "id": "cc45fbb3-b611-4def-b28a-ea27bb349a5a",
   "metadata": {},
   "outputs": [],
   "source": []
  }
 ],
 "metadata": {
  "kernelspec": {
   "display_name": "Python 3 (ipykernel)",
   "language": "python",
   "name": "python3"
  },
  "language_info": {
   "codemirror_mode": {
    "name": "ipython",
    "version": 3
   },
   "file_extension": ".py",
   "mimetype": "text/x-python",
   "name": "python",
   "nbconvert_exporter": "python",
   "pygments_lexer": "ipython3",
   "version": "3.10.12"
  }
 },
 "nbformat": 4,
 "nbformat_minor": 5
}
