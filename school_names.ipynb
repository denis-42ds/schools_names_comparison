{
 "cells": [
  {
   "cell_type": "markdown",
   "id": "69600b15-98aa-4d00-8778-94a8f03a61a8",
   "metadata": {},
   "source": [
    "# Создание решения по стандартизации названий спортивных школ.\n",
    "\n",
    "**Описание проекта**\n",
    "\n",
    "<br>Сервис \"Мой Чемпион\" помогает спортивным школам фигурного катания, тренерам\n",
    "<br>мониторить результаты своих подопечных и планировать дальнейшее развитие спортсменов.\n",
    "\n",
    "**Цель**\n",
    "\n",
    "- Создать решение для стандартизации названий спортивных школ.\n",
    "  <br>Например, одна и та же школа может быть записана по-разному\n",
    "  <br>Необхдодимо сопоставить эти варианты эталонному названию из предоставленной таблицы\n",
    "\n",
    "**Задачи**\n",
    "\n",
    "- Изучить данные – эталонные названия СШ и варианты пользовательского ввода\n",
    "- Подготовить обучающий набор данных на основе эталонного датасета\n",
    "- Создать модель для подбора наиболее вероятных названий при ошибочном вводе\n",
    "- Создать функцию (класс, модуль) для применения в сервисе\n",
    "  - возможность выбора количества кандидатов\n",
    "  - вывод в виде списка словарей\n",
    "- Протестировать решение\n",
    "- Проанализировать результат и предложить варианты улучшения\n",
    "- Создать документацию\n",
    "  - описание признаков\n",
    "  - какая модель используется\n",
    "  - как оценивается качество\n",
    "  - инструкция по запуску (применению)\n",
    "- Создать демо приложение\n",
    "\n",
    "**План выполнения**\n",
    "\n",
    "- Загрузка данных;\n",
    "- Объединение наборов данных;\n",
    "- Исследовательский анализ данных;\n",
    "- Чистка данных;\n",
    "- Получение эмбеддингов;\n",
    "- Обучение модели;\n",
    "- Проверка работоспособности;\n",
    "- Заключение."
   ]
  },
  {
   "cell_type": "markdown",
   "id": "892f1687-2593-4db9-a25d-c5a8c509915c",
   "metadata": {},
   "source": [
    "## Установка зависимостей"
   ]
  },
  {
   "cell_type": "code",
   "execution_count": 13,
   "id": "f11afec1-f28a-46ee-a9f1-130478fa25b8",
   "metadata": {},
   "outputs": [],
   "source": [
    "# !pip install -U sentence-transformers\n",
    "# !pip install pandas\n",
    "\n",
    "!pip freeze > requirements.txt"
   ]
  },
  {
   "cell_type": "code",
   "execution_count": 14,
   "id": "585c1efd-72ce-4185-a0b2-350e11322b37",
   "metadata": {},
   "outputs": [],
   "source": [
    "import os\n",
    "import joblib\n",
    "import numpy as np\n",
    "import pandas as pd\n",
    "from tqdm import tqdm\n",
    "from sentence_transformers import SentenceTransformer"
   ]
  },
  {
   "cell_type": "markdown",
   "id": "b11d50be-4618-47fc-b296-f084c4659201",
   "metadata": {},
   "source": [
    "Объявление глобальных переменных"
   ]
  },
  {
   "cell_type": "code",
   "execution_count": 2,
   "id": "139a59c4-aecd-414e-8e42-e607e91e4c45",
   "metadata": {},
   "outputs": [],
   "source": [
    "DATA_DIR = 'data'\n",
    "MODEL_DIR = 'services/models'\n",
    "RANDOM_STATE = 42\n",
    "TEST_SIZE = 0.1\n",
    "\n",
    "pd.options.mode.copy_on_write = True"
   ]
  },
  {
   "cell_type": "markdown",
   "id": "16b0b558-befe-4627-aa1b-958a28b6af95",
   "metadata": {},
   "source": [
    "## Знакомство с данными"
   ]
  },
  {
   "cell_type": "code",
   "execution_count": 3,
   "id": "9d2e1781-fd4e-4ed2-9b79-9d8f55a98f75",
   "metadata": {},
   "outputs": [
    {
     "data": {
      "text/html": [
       "<div>\n",
       "<style scoped>\n",
       "    .dataframe tbody tr th:only-of-type {\n",
       "        vertical-align: middle;\n",
       "    }\n",
       "\n",
       "    .dataframe tbody tr th {\n",
       "        vertical-align: top;\n",
       "    }\n",
       "\n",
       "    .dataframe thead th {\n",
       "        text-align: right;\n",
       "    }\n",
       "</style>\n",
       "<table border=\"1\" class=\"dataframe\">\n",
       "  <thead>\n",
       "    <tr style=\"text-align: right;\">\n",
       "      <th></th>\n",
       "      <th>school_id</th>\n",
       "      <th>name</th>\n",
       "      <th>region</th>\n",
       "    </tr>\n",
       "  </thead>\n",
       "  <tbody>\n",
       "    <tr>\n",
       "      <th>301</th>\n",
       "      <td>305</td>\n",
       "      <td>Прогресс</td>\n",
       "      <td>Алтайский край</td>\n",
       "    </tr>\n",
       "    <tr>\n",
       "      <th>302</th>\n",
       "      <td>609</td>\n",
       "      <td>\"СШ \"Гвоздика\"</td>\n",
       "      <td>Удмуртская республика</td>\n",
       "    </tr>\n",
       "    <tr>\n",
       "      <th>303</th>\n",
       "      <td>610</td>\n",
       "      <td>СШОР \"Надежда Губернии</td>\n",
       "      <td>Саратовская область</td>\n",
       "    </tr>\n",
       "    <tr>\n",
       "      <th>304</th>\n",
       "      <td>611</td>\n",
       "      <td>КФК «Айсберг»</td>\n",
       "      <td>Пермский край</td>\n",
       "    </tr>\n",
       "    <tr>\n",
       "      <th>305</th>\n",
       "      <td>1836</td>\n",
       "      <td>ООО \"Триумф\"</td>\n",
       "      <td>Москва</td>\n",
       "    </tr>\n",
       "  </tbody>\n",
       "</table>\n",
       "</div>"
      ],
      "text/plain": [
       "     school_id                    name                 region\n",
       "301        305                Прогресс         Алтайский край\n",
       "302        609          \"СШ \"Гвоздика\"  Удмуртская республика\n",
       "303        610  СШОР \"Надежда Губернии    Саратовская область\n",
       "304        611           КФК «Айсберг»          Пермский край\n",
       "305       1836            ООО \"Триумф\"                 Москва"
      ]
     },
     "execution_count": 3,
     "metadata": {},
     "output_type": "execute_result"
    }
   ],
   "source": [
    "schools = pd.read_csv(os.path.join(DATA_DIR, 'Школы.csv'))\n",
    "schools.tail()"
   ]
  },
  {
   "cell_type": "code",
   "execution_count": 4,
   "id": "0e855b1f-109e-4356-9327-6c4b824868d4",
   "metadata": {},
   "outputs": [
    {
     "data": {
      "text/html": [
       "<div>\n",
       "<style scoped>\n",
       "    .dataframe tbody tr th:only-of-type {\n",
       "        vertical-align: middle;\n",
       "    }\n",
       "\n",
       "    .dataframe tbody tr th {\n",
       "        vertical-align: top;\n",
       "    }\n",
       "\n",
       "    .dataframe thead th {\n",
       "        text-align: right;\n",
       "    }\n",
       "</style>\n",
       "<table border=\"1\" class=\"dataframe\">\n",
       "  <thead>\n",
       "    <tr style=\"text-align: right;\">\n",
       "      <th></th>\n",
       "      <th>school_id</th>\n",
       "      <th>name</th>\n",
       "    </tr>\n",
       "  </thead>\n",
       "  <tbody>\n",
       "    <tr>\n",
       "      <th>0</th>\n",
       "      <td>1836</td>\n",
       "      <td>ООО \"Триумф\"</td>\n",
       "    </tr>\n",
       "    <tr>\n",
       "      <th>1</th>\n",
       "      <td>1836</td>\n",
       "      <td>Москва, СК \"Триумф\"</td>\n",
       "    </tr>\n",
       "    <tr>\n",
       "      <th>2</th>\n",
       "      <td>610</td>\n",
       "      <td>СШОР \"Надежда Губернии</td>\n",
       "    </tr>\n",
       "    <tr>\n",
       "      <th>3</th>\n",
       "      <td>610</td>\n",
       "      <td>Саратовская область, ГБУСО \"СШОР \"Надежда Губе...</td>\n",
       "    </tr>\n",
       "    <tr>\n",
       "      <th>4</th>\n",
       "      <td>609</td>\n",
       "      <td>\"СШ \"Гвоздика\"</td>\n",
       "    </tr>\n",
       "  </tbody>\n",
       "</table>\n",
       "</div>"
      ],
      "text/plain": [
       "   school_id                                               name\n",
       "0       1836                                       ООО \"Триумф\"\n",
       "1       1836                                Москва, СК \"Триумф\"\n",
       "2        610                             СШОР \"Надежда Губернии\n",
       "3        610  Саратовская область, ГБУСО \"СШОР \"Надежда Губе...\n",
       "4        609                                     \"СШ \"Гвоздика\""
      ]
     },
     "execution_count": 4,
     "metadata": {},
     "output_type": "execute_result"
    }
   ],
   "source": [
    "sample = pd.read_csv(os.path.join(DATA_DIR, 'Примерное написание.csv'))\n",
    "sample.head()"
   ]
  },
  {
   "cell_type": "markdown",
   "id": "20baeced-e10e-4dc3-94fe-e9e522be3d19",
   "metadata": {},
   "source": [
    "Выводы и наблюдения:\n",
    "- оба датасета загружены;\n",
    "- наблюдается общий признак для объединения;\n",
    "- одной записи в эталонном датасете может соответствовать несколько записей во втором."
   ]
  },
  {
   "cell_type": "markdown",
   "id": "842ee2f3-b2e2-45a6-8546-a3698cf8e5d1",
   "metadata": {},
   "source": [
    "## Объединение датасетов"
   ]
  },
  {
   "cell_type": "code",
   "execution_count": 5,
   "id": "41176c1b-2306-433e-b6f5-03c78ff2e4de",
   "metadata": {},
   "outputs": [
    {
     "name": "stdout",
     "output_type": "stream",
     "text": [
      "<class 'pandas.core.frame.DataFrame'>\n",
      "RangeIndex: 895 entries, 0 to 894\n",
      "Data columns (total 4 columns):\n",
      " #   Column     Non-Null Count  Dtype \n",
      "---  ------     --------------  ----- \n",
      " 0   school_id  895 non-null    int64 \n",
      " 1   name_x     895 non-null    object\n",
      " 2   name_y     895 non-null    object\n",
      " 3   region     895 non-null    object\n",
      "dtypes: int64(1), object(3)\n",
      "memory usage: 28.1+ KB\n"
     ]
    }
   ],
   "source": [
    "df = sample.merge(schools, how='left', on='school_id')\n",
    "df.info()"
   ]
  },
  {
   "cell_type": "code",
   "execution_count": 6,
   "id": "35573d1d-4b7a-41f1-962f-0c34165dcac5",
   "metadata": {},
   "outputs": [
    {
     "data": {
      "text/html": [
       "<div>\n",
       "<style scoped>\n",
       "    .dataframe tbody tr th:only-of-type {\n",
       "        vertical-align: middle;\n",
       "    }\n",
       "\n",
       "    .dataframe tbody tr th {\n",
       "        vertical-align: top;\n",
       "    }\n",
       "\n",
       "    .dataframe thead th {\n",
       "        text-align: right;\n",
       "    }\n",
       "</style>\n",
       "<table border=\"1\" class=\"dataframe\">\n",
       "  <thead>\n",
       "    <tr style=\"text-align: right;\">\n",
       "      <th></th>\n",
       "      <th>school_id</th>\n",
       "      <th>name</th>\n",
       "      <th>standard</th>\n",
       "    </tr>\n",
       "  </thead>\n",
       "  <tbody>\n",
       "    <tr>\n",
       "      <th>885</th>\n",
       "      <td>5</td>\n",
       "      <td>Айсдрим</td>\n",
       "      <td>Ice Dream / Айс Дрим: Санкт-Петербург</td>\n",
       "    </tr>\n",
       "    <tr>\n",
       "      <th>886</th>\n",
       "      <td>4</td>\n",
       "      <td>КФК Аврора</td>\n",
       "      <td>Аврора: Санкт-Петербург</td>\n",
       "    </tr>\n",
       "    <tr>\n",
       "      <th>887</th>\n",
       "      <td>4</td>\n",
       "      <td>МО г.Петергоф, СФК «Аврора»</td>\n",
       "      <td>Аврора: Санкт-Петербург</td>\n",
       "    </tr>\n",
       "    <tr>\n",
       "      <th>888</th>\n",
       "      <td>3</td>\n",
       "      <td>Республика Татарстан, МБУ СШОР \"ФСО \"Авиатор\"</td>\n",
       "      <td>Авиатор: Республика Татарстан</td>\n",
       "    </tr>\n",
       "    <tr>\n",
       "      <th>889</th>\n",
       "      <td>3</td>\n",
       "      <td>Республика Татарстан, МБУ СШОР \"ФСО \"Авиатор\"\"...</td>\n",
       "      <td>Авиатор: Республика Татарстан</td>\n",
       "    </tr>\n",
       "    <tr>\n",
       "      <th>890</th>\n",
       "      <td>3</td>\n",
       "      <td>Республика Татарстан, СШОР ФСО Авиатор</td>\n",
       "      <td>Авиатор: Республика Татарстан</td>\n",
       "    </tr>\n",
       "    <tr>\n",
       "      <th>891</th>\n",
       "      <td>3</td>\n",
       "      <td>СШОР ФСО Авиатор, Республика Татарстан</td>\n",
       "      <td>Авиатор: Республика Татарстан</td>\n",
       "    </tr>\n",
       "    <tr>\n",
       "      <th>892</th>\n",
       "      <td>3</td>\n",
       "      <td>Республика Татарстан, МБУ ДО СШОР «ФСО \"Авиатор\"»</td>\n",
       "      <td>Авиатор: Республика Татарстан</td>\n",
       "    </tr>\n",
       "    <tr>\n",
       "      <th>893</th>\n",
       "      <td>2</td>\n",
       "      <td>ЯНАО, СШ \"Авангард\"</td>\n",
       "      <td>Авангард: Ямало-Ненецкий АО</td>\n",
       "    </tr>\n",
       "    <tr>\n",
       "      <th>894</th>\n",
       "      <td>1</td>\n",
       "      <td>Московская область, СШ \"Авангард\"</td>\n",
       "      <td>Авангард: Московская область</td>\n",
       "    </tr>\n",
       "  </tbody>\n",
       "</table>\n",
       "</div>"
      ],
      "text/plain": [
       "     school_id                                               name  \\\n",
       "885          5                                            Айсдрим   \n",
       "886          4                                         КФК Аврора   \n",
       "887          4                        МО г.Петергоф, СФК «Аврора»   \n",
       "888          3      Республика Татарстан, МБУ СШОР \"ФСО \"Авиатор\"   \n",
       "889          3  Республика Татарстан, МБУ СШОР \"ФСО \"Авиатор\"\"...   \n",
       "890          3             Республика Татарстан, СШОР ФСО Авиатор   \n",
       "891          3             СШОР ФСО Авиатор, Республика Татарстан   \n",
       "892          3  Республика Татарстан, МБУ ДО СШОР «ФСО \"Авиатор\"»   \n",
       "893          2                                ЯНАО, СШ \"Авангард\"   \n",
       "894          1                  Московская область, СШ \"Авангард\"   \n",
       "\n",
       "                                  standard  \n",
       "885  Ice Dream / Айс Дрим: Санкт-Петербург  \n",
       "886                Аврора: Санкт-Петербург  \n",
       "887                Аврора: Санкт-Петербург  \n",
       "888          Авиатор: Республика Татарстан  \n",
       "889          Авиатор: Республика Татарстан  \n",
       "890          Авиатор: Республика Татарстан  \n",
       "891          Авиатор: Республика Татарстан  \n",
       "892          Авиатор: Республика Татарстан  \n",
       "893            Авангард: Ямало-Ненецкий АО  \n",
       "894           Авангард: Московская область  "
      ]
     },
     "execution_count": 6,
     "metadata": {},
     "output_type": "execute_result"
    }
   ],
   "source": [
    "df.rename(columns={'name_x': 'name', 'name_y': 'target'}, inplace=True)\n",
    "df['standard'] = df['target'] + ': ' + df['region']\n",
    "df.drop(columns=['target', 'region'], axis=1, inplace=True)\n",
    "df.tail(10)"
   ]
  },
  {
   "cell_type": "markdown",
   "id": "c3e19303-a4e0-4f5c-928c-f5de158998a5",
   "metadata": {},
   "source": [
    "Выводы и наблюдения:\n",
    "- эталонный набор данных присоединён ко второму;\n",
    "- произведено объединение названия школы с регионом."
   ]
  },
  {
   "cell_type": "markdown",
   "id": "01b84d0b-4723-4f80-bbf4-8dbb01356da2",
   "metadata": {},
   "source": [
    "## Исследовательский анализ данных"
   ]
  },
  {
   "cell_type": "code",
   "execution_count": 7,
   "id": "2c73b6c0-0b3e-4f2b-85ef-7f928a81ed13",
   "metadata": {},
   "outputs": [
    {
     "name": "stdout",
     "output_type": "stream",
     "text": [
      "Количество полных дубликатов строк: 0\n",
      "Количество уникальных значений целевой переменной: 264\n",
      "Количество дубликатов строк по признаку 'name': 1\n",
      "Совпадения строк в признаке name:\n"
     ]
    },
    {
     "data": {
      "text/html": [
       "<div>\n",
       "<style scoped>\n",
       "    .dataframe tbody tr th:only-of-type {\n",
       "        vertical-align: middle;\n",
       "    }\n",
       "\n",
       "    .dataframe tbody tr th {\n",
       "        vertical-align: top;\n",
       "    }\n",
       "\n",
       "    .dataframe thead th {\n",
       "        text-align: right;\n",
       "    }\n",
       "</style>\n",
       "<table border=\"1\" class=\"dataframe\">\n",
       "  <thead>\n",
       "    <tr style=\"text-align: right;\">\n",
       "      <th></th>\n",
       "      <th>school_id</th>\n",
       "      <th>name</th>\n",
       "      <th>standard</th>\n",
       "    </tr>\n",
       "  </thead>\n",
       "  <tbody>\n",
       "    <tr>\n",
       "      <th>34</th>\n",
       "      <td>277</td>\n",
       "      <td>КФК \"Динамо-Санкт-Петербург\"</td>\n",
       "      <td>НП КФК \"Динамо-Санкт-Петербург\": Санкт-Петербург</td>\n",
       "    </tr>\n",
       "    <tr>\n",
       "      <th>758</th>\n",
       "      <td>48</td>\n",
       "      <td>КФК \"Динамо-Санкт-Петербург\"</td>\n",
       "      <td>Динамо Санкт-Петербург: Санкт-Петербург</td>\n",
       "    </tr>\n",
       "  </tbody>\n",
       "</table>\n",
       "</div>"
      ],
      "text/plain": [
       "     school_id                          name  \\\n",
       "34         277  КФК \"Динамо-Санкт-Петербург\"   \n",
       "758         48  КФК \"Динамо-Санкт-Петербург\"   \n",
       "\n",
       "                                             standard  \n",
       "34   НП КФК \"Динамо-Санкт-Петербург\": Санкт-Петербург  \n",
       "758           Динамо Санкт-Петербург: Санкт-Петербург  "
      ]
     },
     "metadata": {},
     "output_type": "display_data"
    },
    {
     "name": "stdout",
     "output_type": "stream",
     "text": [
      "Удалена строка с повторяющимся name, но разным standard\n",
      "<class 'pandas.core.frame.DataFrame'>\n",
      "Index: 893 entries, 0 to 894\n",
      "Data columns (total 3 columns):\n",
      " #   Column     Non-Null Count  Dtype \n",
      "---  ------     --------------  ----- \n",
      " 0   school_id  893 non-null    int64 \n",
      " 1   name       893 non-null    object\n",
      " 2   standard   893 non-null    object\n",
      "dtypes: int64(1), object(2)\n",
      "memory usage: 27.9+ KB\n"
     ]
    }
   ],
   "source": [
    "print(f\"Количество полных дубликатов строк: {df.duplicated().sum()}\")\n",
    "print(f\"Количество уникальных значений целевой переменной: {df['standard'].nunique()}\")\n",
    "print(f\"Количество дубликатов строк по признаку 'name': {df['name'].duplicated().sum()}\")\n",
    "print('Совпадения строк в признаке name:')\n",
    "display(df[df.duplicated(subset='name', keep=False)])\n",
    "df = df[df['school_id'] != 277]\n",
    "print('Удалена строка с повторяющимся name, но разным standard')\n",
    "df.info()"
   ]
  },
  {
   "cell_type": "code",
   "execution_count": 8,
   "id": "82ec3637-3db3-43c8-b4d2-9f525833d5ec",
   "metadata": {},
   "outputs": [
    {
     "name": "stdout",
     "output_type": "stream",
     "text": [
      "В среднем на одно корректное наименование приходится 3 некорректных\n"
     ]
    }
   ],
   "source": [
    "print(f\"В среднем на одно корректное наименование приходится {round(df['name'].nunique() / df['standard'].nunique(),)} некорректных\")"
   ]
  },
  {
   "cell_type": "markdown",
   "id": "09e15bf7-949e-4ad3-b786-19164679a448",
   "metadata": {},
   "source": [
    "Выводы и наблюдения:\n",
    "- полных повторов в данных нет;\n",
    "- пропусков в данных нет;\n",
    "- удалена одна строка с повторяющимся значением в признаке `name`."
   ]
  },
  {
   "cell_type": "markdown",
   "id": "aa96590a-4c33-4ffe-8bdd-a8f1f649f710",
   "metadata": {},
   "source": [
    "## Получение эмбеддингов"
   ]
  },
  {
   "cell_type": "markdown",
   "id": "0754bf87-2293-48f6-8820-36c584b0c6df",
   "metadata": {},
   "source": [
    "Загрузка модели"
   ]
  },
  {
   "cell_type": "code",
   "execution_count": 9,
   "id": "f972d08a-7c25-481c-a15a-6318d78b0d97",
   "metadata": {},
   "outputs": [
    {
     "data": {
      "text/plain": [
       "SentenceTransformer(\n",
       "  (0): Transformer({'max_seq_length': 256, 'do_lower_case': False}) with Transformer model: BertModel \n",
       "  (1): Pooling({'word_embedding_dimension': 768, 'pooling_mode_cls_token': True, 'pooling_mode_mean_tokens': False, 'pooling_mode_max_tokens': False, 'pooling_mode_mean_sqrt_len_tokens': False, 'pooling_mode_weightedmean_tokens': False, 'pooling_mode_lasttoken': False, 'include_prompt': True})\n",
       "  (2): Dense({'in_features': 768, 'out_features': 768, 'bias': True, 'activation_function': 'torch.nn.modules.activation.Tanh'})\n",
       "  (3): Normalize()\n",
       ")"
      ]
     },
     "execution_count": 9,
     "metadata": {},
     "output_type": "execute_result"
    }
   ],
   "source": [
    "try:\n",
    "    labse = joblib.load(os.path.join(MODEL_DIR, 'labse.model'))\n",
    "except:\n",
    "    labse = SentenceTransformer('sentence-transformers/LaBSE')\n",
    "    joblib.dump(labse, os.path.join(MODEL_DIR, 'labse.model'))\n",
    "labse"
   ]
  },
  {
   "cell_type": "markdown",
   "id": "6db2f360-fb9a-4c02-bbac-a59530f1cd31",
   "metadata": {},
   "source": [
    "Получение эмбеддингов наименований школ"
   ]
  },
  {
   "cell_type": "code",
   "execution_count": 15,
   "id": "b77b002c-c0a4-4c34-a505-85a7734f5f5b",
   "metadata": {},
   "outputs": [
    {
     "name": "stderr",
     "output_type": "stream",
     "text": [
      "100%|██████████████████████████████████████████████████████████████████| 893/893 [02:07<00:00,  6.99it/s]\n"
     ]
    },
    {
     "data": {
      "text/plain": [
       "(893, 768)"
      ]
     },
     "execution_count": 15,
     "metadata": {},
     "output_type": "execute_result"
    }
   ],
   "source": [
    "school_names = df['name'].values\n",
    "\n",
    "# Wrap the list of school names with tqdm for progress bar\n",
    "with tqdm(school_names) as progress_bar:\n",
    "  name_embeddings = []\n",
    "  for name in progress_bar:\n",
    "    embedding = labse.encode(name)\n",
    "    name_embeddings.append(embedding)\n",
    "\n",
    "name_embeddings = np.array(name_embeddings)  # Convert list to numpy array\n",
    "name_embeddings.shape"
   ]
  },
  {
   "cell_type": "code",
   "execution_count": 16,
   "id": "3405a06a-ca6f-4509-833b-19e4dcb986f5",
   "metadata": {},
   "outputs": [
    {
     "data": {
      "text/html": [
       "<div>\n",
       "<style scoped>\n",
       "    .dataframe tbody tr th:only-of-type {\n",
       "        vertical-align: middle;\n",
       "    }\n",
       "\n",
       "    .dataframe tbody tr th {\n",
       "        vertical-align: top;\n",
       "    }\n",
       "\n",
       "    .dataframe thead th {\n",
       "        text-align: right;\n",
       "    }\n",
       "</style>\n",
       "<table border=\"1\" class=\"dataframe\">\n",
       "  <thead>\n",
       "    <tr style=\"text-align: right;\">\n",
       "      <th></th>\n",
       "      <th>school_id</th>\n",
       "      <th>name</th>\n",
       "      <th>standard</th>\n",
       "    </tr>\n",
       "  </thead>\n",
       "  <tbody>\n",
       "    <tr>\n",
       "      <th>430</th>\n",
       "      <td>144</td>\n",
       "      <td>Краснодарский край, РЦСП по ФКК</td>\n",
       "      <td>РЦСП по ФФК: Краснодарский край</td>\n",
       "    </tr>\n",
       "    <tr>\n",
       "      <th>644</th>\n",
       "      <td>82</td>\n",
       "      <td>Москва, ГБУ ДО \"МАФК, Школа \"Легенда\"</td>\n",
       "      <td>Легенда: Москва</td>\n",
       "    </tr>\n",
       "    <tr>\n",
       "      <th>502</th>\n",
       "      <td>119</td>\n",
       "      <td>г. Москва, ГБУ ДО \"МАФКК\" Олимп</td>\n",
       "      <td>Олимп: Москва</td>\n",
       "    </tr>\n",
       "    <tr>\n",
       "      <th>143</th>\n",
       "      <td>240</td>\n",
       "      <td>СШ Ямал, ЯНАО</td>\n",
       "      <td>ФФКК ЯНАО: Ямало-Ненецкий АО</td>\n",
       "    </tr>\n",
       "    <tr>\n",
       "      <th>691</th>\n",
       "      <td>62</td>\n",
       "      <td>СПб ГБУ СШОР Звездный лед</td>\n",
       "      <td>Звездный лед: Санкт-Петербург</td>\n",
       "    </tr>\n",
       "    <tr>\n",
       "      <th>795</th>\n",
       "      <td>37</td>\n",
       "      <td>Нижегородская обл., ГБУ НО СШОР по ЛСВС,г.Нижн...</td>\n",
       "      <td>ГБОУ ДО НО СШОР по ЛВС: Нижегородская область</td>\n",
       "    </tr>\n",
       "    <tr>\n",
       "      <th>232</th>\n",
       "      <td>206</td>\n",
       "      <td>СШОР №1, Самарская область</td>\n",
       "      <td>СШОР No 1: Самарская область</td>\n",
       "    </tr>\n",
       "    <tr>\n",
       "      <th>808</th>\n",
       "      <td>33</td>\n",
       "      <td>Самарская область, СШОР №13 \"Волгарь\"</td>\n",
       "      <td>Волгарь: Самарская область</td>\n",
       "    </tr>\n",
       "    <tr>\n",
       "      <th>880</th>\n",
       "      <td>7</td>\n",
       "      <td>Рязанская область, ГАУ ДО РО \"СШ \"Айсберг\"</td>\n",
       "      <td>Айсберг: Рязанская область</td>\n",
       "    </tr>\n",
       "    <tr>\n",
       "      <th>522</th>\n",
       "      <td>111</td>\n",
       "      <td>ЧОУ ДОД ДЮСШ Невский лед</td>\n",
       "      <td>Невский лед: Санкт-Петербург</td>\n",
       "    </tr>\n",
       "    <tr>\n",
       "      <th>682</th>\n",
       "      <td>65</td>\n",
       "      <td>Удмуртская республика, АУ УР \"ЛД \"Ижсталь\"</td>\n",
       "      <td>Ижсталь: Удмуртская Республика</td>\n",
       "    </tr>\n",
       "    <tr>\n",
       "      <th>220</th>\n",
       "      <td>210</td>\n",
       "      <td>Курганская область, СШОР №2</td>\n",
       "      <td>СШОР № 2: Курганская область</td>\n",
       "    </tr>\n",
       "    <tr>\n",
       "      <th>487</th>\n",
       "      <td>125</td>\n",
       "      <td>АНО \"СК ФКК \"ОЛИМПИЯ\"</td>\n",
       "      <td>ОЛИМПИЯ: Санкт-Петербург</td>\n",
       "    </tr>\n",
       "    <tr>\n",
       "      <th>400</th>\n",
       "      <td>159</td>\n",
       "      <td>Астраханская область, АРОО ФФК \"Созвездие\"</td>\n",
       "      <td>Созвездие: Астраханская область</td>\n",
       "    </tr>\n",
       "    <tr>\n",
       "      <th>375</th>\n",
       "      <td>168</td>\n",
       "      <td>Пермский край, КГБУ \"СШОР \"Старт\"</td>\n",
       "      <td>Старт: Пермский край</td>\n",
       "    </tr>\n",
       "    <tr>\n",
       "      <th>58</th>\n",
       "      <td>264</td>\n",
       "      <td>Свердловская обл., МБОУ ДО СШОР \"Юность\"</td>\n",
       "      <td>Юность: Свердловская область</td>\n",
       "    </tr>\n",
       "    <tr>\n",
       "      <th>662</th>\n",
       "      <td>78</td>\n",
       "      <td>МБУ СШ Космос, Калужская область</td>\n",
       "      <td>Космос: Калужская область</td>\n",
       "    </tr>\n",
       "    <tr>\n",
       "      <th>404</th>\n",
       "      <td>156</td>\n",
       "      <td>ООО ХК СКА СПб</td>\n",
       "      <td>Хоккейный клуб \"СКА\": Санкт-Петербург</td>\n",
       "    </tr>\n",
       "    <tr>\n",
       "      <th>28</th>\n",
       "      <td>287</td>\n",
       "      <td>Москва, ИП Черникова Наталья Александровна</td>\n",
       "      <td>СФК \"УЗОР\" ИП Баранчикова Наталия Александровн...</td>\n",
       "    </tr>\n",
       "    <tr>\n",
       "      <th>300</th>\n",
       "      <td>192</td>\n",
       "      <td>ГБУ СШОР Колпинского района</td>\n",
       "      <td>СШОР Колпинского района: Санкт-Петербург</td>\n",
       "    </tr>\n",
       "  </tbody>\n",
       "</table>\n",
       "</div>"
      ],
      "text/plain": [
       "     school_id                                               name  \\\n",
       "430        144                    Краснодарский край, РЦСП по ФКК   \n",
       "644         82              Москва, ГБУ ДО \"МАФК, Школа \"Легенда\"   \n",
       "502        119                    г. Москва, ГБУ ДО \"МАФКК\" Олимп   \n",
       "143        240                                      СШ Ямал, ЯНАО   \n",
       "691         62                          СПб ГБУ СШОР Звездный лед   \n",
       "795         37  Нижегородская обл., ГБУ НО СШОР по ЛСВС,г.Нижн...   \n",
       "232        206                         СШОР №1, Самарская область   \n",
       "808         33              Самарская область, СШОР №13 \"Волгарь\"   \n",
       "880          7         Рязанская область, ГАУ ДО РО \"СШ \"Айсберг\"   \n",
       "522        111                           ЧОУ ДОД ДЮСШ Невский лед   \n",
       "682         65         Удмуртская республика, АУ УР \"ЛД \"Ижсталь\"   \n",
       "220        210                        Курганская область, СШОР №2   \n",
       "487        125                              АНО \"СК ФКК \"ОЛИМПИЯ\"   \n",
       "400        159         Астраханская область, АРОО ФФК \"Созвездие\"   \n",
       "375        168                  Пермский край, КГБУ \"СШОР \"Старт\"   \n",
       "58         264           Свердловская обл., МБОУ ДО СШОР \"Юность\"   \n",
       "662         78                   МБУ СШ Космос, Калужская область   \n",
       "404        156                                     ООО ХК СКА СПб   \n",
       "28         287         Москва, ИП Черникова Наталья Александровна   \n",
       "300        192                        ГБУ СШОР Колпинского района   \n",
       "\n",
       "                                              standard  \n",
       "430                    РЦСП по ФФК: Краснодарский край  \n",
       "644                                    Легенда: Москва  \n",
       "502                                      Олимп: Москва  \n",
       "143                       ФФКК ЯНАО: Ямало-Ненецкий АО  \n",
       "691                      Звездный лед: Санкт-Петербург  \n",
       "795      ГБОУ ДО НО СШОР по ЛВС: Нижегородская область  \n",
       "232                       СШОР No 1: Самарская область  \n",
       "808                         Волгарь: Самарская область  \n",
       "880                         Айсберг: Рязанская область  \n",
       "522                       Невский лед: Санкт-Петербург  \n",
       "682                     Ижсталь: Удмуртская Республика  \n",
       "220                       СШОР № 2: Курганская область  \n",
       "487                           ОЛИМПИЯ: Санкт-Петербург  \n",
       "400                    Созвездие: Астраханская область  \n",
       "375                               Старт: Пермский край  \n",
       "58                        Юность: Свердловская область  \n",
       "662                          Космос: Калужская область  \n",
       "404              Хоккейный клуб \"СКА\": Санкт-Петербург  \n",
       "28   СФК \"УЗОР\" ИП Баранчикова Наталия Александровн...  \n",
       "300           СШОР Колпинского района: Санкт-Петербург  "
      ]
     },
     "execution_count": 16,
     "metadata": {},
     "output_type": "execute_result"
    }
   ],
   "source": [
    "df.sample(20)"
   ]
  },
  {
   "cell_type": "code",
   "execution_count": 54,
   "id": "6e568c4c-d38d-4826-92c0-e32ab833287d",
   "metadata": {},
   "outputs": [],
   "source": [
    "input_school_name = 'Космос'"
   ]
  },
  {
   "cell_type": "code",
   "execution_count": 56,
   "id": "b21a5e80-fea6-42ee-8cc8-4c486ee0e269",
   "metadata": {},
   "outputs": [
    {
     "data": {
      "text/html": [
       "<div>\n",
       "<style scoped>\n",
       "    .dataframe tbody tr th:only-of-type {\n",
       "        vertical-align: middle;\n",
       "    }\n",
       "\n",
       "    .dataframe tbody tr th {\n",
       "        vertical-align: top;\n",
       "    }\n",
       "\n",
       "    .dataframe thead th {\n",
       "        text-align: right;\n",
       "    }\n",
       "</style>\n",
       "<table border=\"1\" class=\"dataframe\">\n",
       "  <thead>\n",
       "    <tr style=\"text-align: right;\">\n",
       "      <th></th>\n",
       "      <th>school_id</th>\n",
       "      <th>name</th>\n",
       "      <th>standard</th>\n",
       "      <th>cosine_similarity</th>\n",
       "    </tr>\n",
       "  </thead>\n",
       "  <tbody>\n",
       "    <tr>\n",
       "      <th>873</th>\n",
       "      <td>10</td>\n",
       "      <td>АНО АСКК, Москва</td>\n",
       "      <td>Академия синхронного катания на коньках: Москва</td>\n",
       "      <td>0.489191</td>\n",
       "    </tr>\n",
       "    <tr>\n",
       "      <th>658</th>\n",
       "      <td>79</td>\n",
       "      <td>ХШФК Красная звезда</td>\n",
       "      <td>Красная звезда: Санкт-Петербург</td>\n",
       "      <td>0.474319</td>\n",
       "    </tr>\n",
       "    <tr>\n",
       "      <th>660</th>\n",
       "      <td>78</td>\n",
       "      <td>Калужская область, СШ \"Космос\"</td>\n",
       "      <td>Космос: Калужская область</td>\n",
       "      <td>0.454622</td>\n",
       "    </tr>\n",
       "    <tr>\n",
       "      <th>778</th>\n",
       "      <td>41</td>\n",
       "      <td>Тверская область, МБОУ ДО ДЮСШ им. И.Я. Гусева...</td>\n",
       "      <td>Гусева: Тверская область</td>\n",
       "      <td>0.437746</td>\n",
       "    </tr>\n",
       "    <tr>\n",
       "      <th>396</th>\n",
       "      <td>161</td>\n",
       "      <td>Москва, МАФКК школа \"Сокольники\"</td>\n",
       "      <td>Сокольники: Москва</td>\n",
       "      <td>0.402909</td>\n",
       "    </tr>\n",
       "  </tbody>\n",
       "</table>\n",
       "</div>"
      ],
      "text/plain": [
       "     school_id                                               name  \\\n",
       "873         10                                   АНО АСКК, Москва   \n",
       "658         79                                ХШФК Красная звезда   \n",
       "660         78                     Калужская область, СШ \"Космос\"   \n",
       "778         41  Тверская область, МБОУ ДО ДЮСШ им. И.Я. Гусева...   \n",
       "396        161                   Москва, МАФКК школа \"Сокольники\"   \n",
       "\n",
       "                                            standard  cosine_similarity  \n",
       "873  Академия синхронного катания на коньках: Москва           0.489191  \n",
       "658                  Красная звезда: Санкт-Петербург           0.474319  \n",
       "660                        Космос: Калужская область           0.454622  \n",
       "778                         Гусева: Тверская область           0.437746  \n",
       "396                               Сокольники: Москва           0.402909  "
      ]
     },
     "execution_count": 56,
     "metadata": {},
     "output_type": "execute_result"
    }
   ],
   "source": [
    "import sentence_transformers\n",
    "res = sentence_transformers.util.semantic_search(labse.encode(input_school_name), name_embeddings, top_k=5)\n",
    "\n",
    "idx = [i['corpus_id'] for i in res[0]]\n",
    "score = [i['score'] for i in res[0]]\n",
    "result = (df.loc[idx, ['school_id', 'name', 'standard']]\n",
    "          .assign(cosine_similarity=score)\n",
    "          .drop_duplicates(subset=['school_id', 'name'])\n",
    "          .iloc[:5])\n",
    "result"
   ]
  },
  {
   "cell_type": "code",
   "execution_count": 25,
   "id": "53414892-13fe-4b06-a701-910c45840240",
   "metadata": {},
   "outputs": [
    {
     "data": {
      "text/html": [
       "<div>\n",
       "<style scoped>\n",
       "    .dataframe tbody tr th:only-of-type {\n",
       "        vertical-align: middle;\n",
       "    }\n",
       "\n",
       "    .dataframe tbody tr th {\n",
       "        vertical-align: top;\n",
       "    }\n",
       "\n",
       "    .dataframe thead th {\n",
       "        text-align: right;\n",
       "    }\n",
       "</style>\n",
       "<table border=\"1\" class=\"dataframe\">\n",
       "  <thead>\n",
       "    <tr style=\"text-align: right;\">\n",
       "      <th></th>\n",
       "      <th>school_id</th>\n",
       "      <th>name</th>\n",
       "      <th>standard</th>\n",
       "      <th>cosine_similarity</th>\n",
       "    </tr>\n",
       "  </thead>\n",
       "  <tbody>\n",
       "    <tr>\n",
       "      <th>373</th>\n",
       "      <td>168</td>\n",
       "      <td>Пермский край, СШОР \"Старт\"</td>\n",
       "      <td>Старт: Пермский край</td>\n",
       "      <td>1.000000</td>\n",
       "    </tr>\n",
       "    <tr>\n",
       "      <th>374</th>\n",
       "      <td>168</td>\n",
       "      <td>Пермский край, ГБУ ДО ПК «СШОР «Старт»</td>\n",
       "      <td>Старт: Пермский край</td>\n",
       "      <td>0.998756</td>\n",
       "    </tr>\n",
       "    <tr>\n",
       "      <th>366</th>\n",
       "      <td>169</td>\n",
       "      <td>Свердловская область, ФКиС Старт</td>\n",
       "      <td>Старт: Свердловская область</td>\n",
       "      <td>0.948739</td>\n",
       "    </tr>\n",
       "  </tbody>\n",
       "</table>\n",
       "</div>"
      ],
      "text/plain": [
       "     school_id                                    name  \\\n",
       "373        168             Пермский край, СШОР \"Старт\"   \n",
       "374        168  Пермский край, ГБУ ДО ПК «СШОР «Старт»   \n",
       "366        169        Свердловская область, ФКиС Старт   \n",
       "\n",
       "                        standard  cosine_similarity  \n",
       "373         Старт: Пермский край           1.000000  \n",
       "374         Старт: Пермский край           0.998756  \n",
       "366  Старт: Свердловская область           0.948739  "
      ]
     },
     "execution_count": 25,
     "metadata": {},
     "output_type": "execute_result"
    }
   ],
   "source": [
    "result"
   ]
  },
  {
   "cell_type": "code",
   "execution_count": null,
   "id": "b80e16e4-0cf1-4baa-ad4a-9ba6a440e6b5",
   "metadata": {},
   "outputs": [],
   "source": []
  },
  {
   "cell_type": "code",
   "execution_count": null,
   "id": "769bb71d-34f0-4659-acc7-f9d2a54e2594",
   "metadata": {},
   "outputs": [],
   "source": []
  },
  {
   "cell_type": "code",
   "execution_count": null,
   "id": "bb2fe04d-8f4d-407a-9a94-338acc2e2372",
   "metadata": {},
   "outputs": [],
   "source": []
  }
 ],
 "metadata": {
  "kernelspec": {
   "display_name": "Python 3 (ipykernel)",
   "language": "python",
   "name": "python3"
  },
  "language_info": {
   "codemirror_mode": {
    "name": "ipython",
    "version": 3
   },
   "file_extension": ".py",
   "mimetype": "text/x-python",
   "name": "python",
   "nbconvert_exporter": "python",
   "pygments_lexer": "ipython3",
   "version": "3.10.12"
  }
 },
 "nbformat": 4,
 "nbformat_minor": 5
}
